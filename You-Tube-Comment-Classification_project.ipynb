{
 "cells": [
  {
   "cell_type": "code",
   "execution_count": 156,
   "metadata": {
    "colab": {
     "base_uri": "https://localhost:8080/"
    },
    "id": "pf0jO_f46dD-",
    "outputId": "96fc157e-ccb6-433c-fcdc-9a13f8f69d7e"
   },
   "outputs": [
    {
     "name": "stdout",
     "output_type": "stream",
     "text": [
      "Requirement already satisfied: wordcloud in c:\\users\\anshu\\anaconda3\\lib\\site-packages (1.8.2.2)\n",
      "Requirement already satisfied: matplotlib in c:\\users\\anshu\\anaconda3\\lib\\site-packages (from wordcloud) (3.4.3)\n",
      "Requirement already satisfied: numpy>=1.6.1 in c:\\users\\anshu\\anaconda3\\lib\\site-packages (from wordcloud) (1.20.3)\n",
      "Requirement already satisfied: pillow in c:\\users\\anshu\\anaconda3\\lib\\site-packages (from wordcloud) (8.4.0)\n",
      "Requirement already satisfied: cycler>=0.10 in c:\\users\\anshu\\anaconda3\\lib\\site-packages (from matplotlib->wordcloud) (0.10.0)\n",
      "Requirement already satisfied: pyparsing>=2.2.1 in c:\\users\\anshu\\anaconda3\\lib\\site-packages (from matplotlib->wordcloud) (3.0.4)\n",
      "Requirement already satisfied: python-dateutil>=2.7 in c:\\users\\anshu\\anaconda3\\lib\\site-packages (from matplotlib->wordcloud) (2.8.2)\n",
      "Requirement already satisfied: kiwisolver>=1.0.1 in c:\\users\\anshu\\anaconda3\\lib\\site-packages (from matplotlib->wordcloud) (1.3.1)\n",
      "Requirement already satisfied: six in c:\\users\\anshu\\anaconda3\\lib\\site-packages (from cycler>=0.10->matplotlib->wordcloud) (1.16.0)\n",
      "Requirement already satisfied: contractions in c:\\users\\anshu\\anaconda3\\lib\\site-packages (0.1.73)\n",
      "Requirement already satisfied: textsearch>=0.0.21 in c:\\users\\anshu\\anaconda3\\lib\\site-packages (from contractions) (0.0.24)\n",
      "Requirement already satisfied: pyahocorasick in c:\\users\\anshu\\anaconda3\\lib\\site-packages (from textsearch>=0.0.21->contractions) (2.0.0)\n",
      "Requirement already satisfied: anyascii in c:\\users\\anshu\\anaconda3\\lib\\site-packages (from textsearch>=0.0.21->contractions) (0.3.2)\n",
      "Requirement already satisfied: chart-studio in c:\\users\\anshu\\anaconda3\\lib\\site-packages (1.1.0)\n",
      "Requirement already satisfied: requests in c:\\users\\anshu\\anaconda3\\lib\\site-packages (from chart-studio) (2.26.0)\n",
      "Requirement already satisfied: plotly in c:\\users\\anshu\\anaconda3\\lib\\site-packages (from chart-studio) (5.14.0)\n",
      "Requirement already satisfied: retrying>=1.3.3 in c:\\users\\anshu\\anaconda3\\lib\\site-packages (from chart-studio) (1.3.4)\n",
      "Requirement already satisfied: six in c:\\users\\anshu\\anaconda3\\lib\\site-packages (from chart-studio) (1.16.0)\n",
      "Requirement already satisfied: packaging in c:\\users\\anshu\\anaconda3\\lib\\site-packages (from plotly->chart-studio) (21.0)\n",
      "Requirement already satisfied: tenacity>=6.2.0 in c:\\users\\anshu\\anaconda3\\lib\\site-packages (from plotly->chart-studio) (8.2.2)\n",
      "Requirement already satisfied: pyparsing>=2.0.2 in c:\\users\\anshu\\anaconda3\\lib\\site-packages (from packaging->plotly->chart-studio) (3.0.4)\n",
      "Requirement already satisfied: urllib3<1.27,>=1.21.1 in c:\\users\\anshu\\anaconda3\\lib\\site-packages (from requests->chart-studio) (1.26.7)\n",
      "Requirement already satisfied: charset-normalizer~=2.0.0 in c:\\users\\anshu\\anaconda3\\lib\\site-packages (from requests->chart-studio) (2.0.4)\n",
      "Requirement already satisfied: idna<4,>=2.5 in c:\\users\\anshu\\anaconda3\\lib\\site-packages (from requests->chart-studio) (3.2)\n",
      "Requirement already satisfied: certifi>=2017.4.17 in c:\\users\\anshu\\anaconda3\\lib\\site-packages (from requests->chart-studio) (2021.10.8)\n",
      "Requirement already satisfied: cufflinks in c:\\users\\anshu\\anaconda3\\lib\\site-packages (0.17.3)\n",
      "Requirement already satisfied: numpy>=1.9.2 in c:\\users\\anshu\\anaconda3\\lib\\site-packages (from cufflinks) (1.20.3)\n",
      "Requirement already satisfied: pandas>=0.19.2 in c:\\users\\anshu\\anaconda3\\lib\\site-packages (from cufflinks) (1.3.4)\n",
      "Requirement already satisfied: plotly>=4.1.1 in c:\\users\\anshu\\anaconda3\\lib\\site-packages (from cufflinks) (5.14.0)\n",
      "Requirement already satisfied: setuptools>=34.4.1 in c:\\users\\anshu\\anaconda3\\lib\\site-packages (from cufflinks) (58.0.4)\n",
      "Requirement already satisfied: ipython>=5.3.0 in c:\\users\\anshu\\anaconda3\\lib\\site-packages (from cufflinks) (7.29.0)\n",
      "Requirement already satisfied: ipywidgets>=7.0.0 in c:\\users\\anshu\\anaconda3\\lib\\site-packages (from cufflinks) (7.6.5)\n",
      "Requirement already satisfied: colorlover>=0.2.1 in c:\\users\\anshu\\anaconda3\\lib\\site-packages (from cufflinks) (0.3.0)\n",
      "Requirement already satisfied: six>=1.9.0 in c:\\users\\anshu\\anaconda3\\lib\\site-packages (from cufflinks) (1.16.0)\n",
      "Requirement already satisfied: prompt-toolkit!=3.0.0,!=3.0.1,<3.1.0,>=2.0.0 in c:\\users\\anshu\\anaconda3\\lib\\site-packages (from ipython>=5.3.0->cufflinks) (3.0.20)\n",
      "Requirement already satisfied: pickleshare in c:\\users\\anshu\\anaconda3\\lib\\site-packages (from ipython>=5.3.0->cufflinks) (0.7.5)\n",
      "Requirement already satisfied: matplotlib-inline in c:\\users\\anshu\\anaconda3\\lib\\site-packages (from ipython>=5.3.0->cufflinks) (0.1.2)\n",
      "Requirement already satisfied: backcall in c:\\users\\anshu\\anaconda3\\lib\\site-packages (from ipython>=5.3.0->cufflinks) (0.2.0)\n",
      "Requirement already satisfied: decorator in c:\\users\\anshu\\anaconda3\\lib\\site-packages (from ipython>=5.3.0->cufflinks) (5.1.0)\n",
      "Requirement already satisfied: colorama in c:\\users\\anshu\\anaconda3\\lib\\site-packages (from ipython>=5.3.0->cufflinks) (0.4.4)\n",
      "Requirement already satisfied: traitlets>=4.2 in c:\\users\\anshu\\anaconda3\\lib\\site-packages (from ipython>=5.3.0->cufflinks) (5.1.0)\n",
      "Requirement already satisfied: pygments in c:\\users\\anshu\\anaconda3\\lib\\site-packages (from ipython>=5.3.0->cufflinks) (2.10.0)\n",
      "Requirement already satisfied: jedi>=0.16 in c:\\users\\anshu\\anaconda3\\lib\\site-packages (from ipython>=5.3.0->cufflinks) (0.18.0)\n",
      "Requirement already satisfied: ipykernel>=4.5.1 in c:\\users\\anshu\\anaconda3\\lib\\site-packages (from ipywidgets>=7.0.0->cufflinks) (6.4.1)\n",
      "Requirement already satisfied: ipython-genutils~=0.2.0 in c:\\users\\anshu\\anaconda3\\lib\\site-packages (from ipywidgets>=7.0.0->cufflinks) (0.2.0)\n",
      "Requirement already satisfied: widgetsnbextension~=3.5.0 in c:\\users\\anshu\\anaconda3\\lib\\site-packages (from ipywidgets>=7.0.0->cufflinks) (3.5.1)\n",
      "Requirement already satisfied: nbformat>=4.2.0 in c:\\users\\anshu\\anaconda3\\lib\\site-packages (from ipywidgets>=7.0.0->cufflinks) (5.1.3)\n",
      "Requirement already satisfied: jupyterlab-widgets>=1.0.0 in c:\\users\\anshu\\anaconda3\\lib\\site-packages (from ipywidgets>=7.0.0->cufflinks) (1.0.0)\n",
      "Requirement already satisfied: debugpy<2.0,>=1.0.0 in c:\\users\\anshu\\anaconda3\\lib\\site-packages (from ipykernel>=4.5.1->ipywidgets>=7.0.0->cufflinks) (1.4.1)\n",
      "Requirement already satisfied: tornado<7.0,>=4.2 in c:\\users\\anshu\\anaconda3\\lib\\site-packages (from ipykernel>=4.5.1->ipywidgets>=7.0.0->cufflinks) (6.1)\n",
      "Requirement already satisfied: jupyter-client<8.0 in c:\\users\\anshu\\anaconda3\\lib\\site-packages (from ipykernel>=4.5.1->ipywidgets>=7.0.0->cufflinks) (6.1.12)\n",
      "Requirement already satisfied: parso<0.9.0,>=0.8.0 in c:\\users\\anshu\\anaconda3\\lib\\site-packages (from jedi>=0.16->ipython>=5.3.0->cufflinks) (0.8.2)\n",
      "Requirement already satisfied: jupyter-core>=4.6.0 in c:\\users\\anshu\\anaconda3\\lib\\site-packages (from jupyter-client<8.0->ipykernel>=4.5.1->ipywidgets>=7.0.0->cufflinks) (4.8.1)\n",
      "Requirement already satisfied: python-dateutil>=2.1 in c:\\users\\anshu\\anaconda3\\lib\\site-packages (from jupyter-client<8.0->ipykernel>=4.5.1->ipywidgets>=7.0.0->cufflinks) (2.8.2)\n",
      "Requirement already satisfied: pyzmq>=13 in c:\\users\\anshu\\anaconda3\\lib\\site-packages (from jupyter-client<8.0->ipykernel>=4.5.1->ipywidgets>=7.0.0->cufflinks) (22.2.1)\n",
      "Requirement already satisfied: pywin32>=1.0 in c:\\users\\anshu\\anaconda3\\lib\\site-packages (from jupyter-core>=4.6.0->jupyter-client<8.0->ipykernel>=4.5.1->ipywidgets>=7.0.0->cufflinks) (228)\n",
      "Requirement already satisfied: jsonschema!=2.5.0,>=2.4 in c:\\users\\anshu\\anaconda3\\lib\\site-packages (from nbformat>=4.2.0->ipywidgets>=7.0.0->cufflinks) (3.2.0)\n",
      "Requirement already satisfied: attrs>=17.4.0 in c:\\users\\anshu\\anaconda3\\lib\\site-packages (from jsonschema!=2.5.0,>=2.4->nbformat>=4.2.0->ipywidgets>=7.0.0->cufflinks) (21.2.0)\n",
      "Requirement already satisfied: pyrsistent>=0.14.0 in c:\\users\\anshu\\anaconda3\\lib\\site-packages (from jsonschema!=2.5.0,>=2.4->nbformat>=4.2.0->ipywidgets>=7.0.0->cufflinks) (0.18.0)\n",
      "Requirement already satisfied: pytz>=2017.3 in c:\\users\\anshu\\anaconda3\\lib\\site-packages (from pandas>=0.19.2->cufflinks) (2021.3)\n",
      "Requirement already satisfied: tenacity>=6.2.0 in c:\\users\\anshu\\anaconda3\\lib\\site-packages (from plotly>=4.1.1->cufflinks) (8.2.2)\n",
      "Requirement already satisfied: packaging in c:\\users\\anshu\\anaconda3\\lib\\site-packages (from plotly>=4.1.1->cufflinks) (21.0)\n",
      "Requirement already satisfied: wcwidth in c:\\users\\anshu\\anaconda3\\lib\\site-packages (from prompt-toolkit!=3.0.0,!=3.0.1,<3.1.0,>=2.0.0->ipython>=5.3.0->cufflinks) (0.2.5)\n",
      "Requirement already satisfied: notebook>=4.4.1 in c:\\users\\anshu\\anaconda3\\lib\\site-packages (from widgetsnbextension~=3.5.0->ipywidgets>=7.0.0->cufflinks) (6.4.5)\n",
      "Requirement already satisfied: prometheus-client in c:\\users\\anshu\\anaconda3\\lib\\site-packages (from notebook>=4.4.1->widgetsnbextension~=3.5.0->ipywidgets>=7.0.0->cufflinks) (0.11.0)\n",
      "Requirement already satisfied: nbconvert in c:\\users\\anshu\\anaconda3\\lib\\site-packages (from notebook>=4.4.1->widgetsnbextension~=3.5.0->ipywidgets>=7.0.0->cufflinks) (6.1.0)\n",
      "Requirement already satisfied: terminado>=0.8.3 in c:\\users\\anshu\\anaconda3\\lib\\site-packages (from notebook>=4.4.1->widgetsnbextension~=3.5.0->ipywidgets>=7.0.0->cufflinks) (0.9.4)\n",
      "Requirement already satisfied: argon2-cffi in c:\\users\\anshu\\anaconda3\\lib\\site-packages (from notebook>=4.4.1->widgetsnbextension~=3.5.0->ipywidgets>=7.0.0->cufflinks) (20.1.0)\n",
      "Requirement already satisfied: Send2Trash>=1.5.0 in c:\\users\\anshu\\anaconda3\\lib\\site-packages (from notebook>=4.4.1->widgetsnbextension~=3.5.0->ipywidgets>=7.0.0->cufflinks) (1.8.0)\n",
      "Requirement already satisfied: jinja2 in c:\\users\\anshu\\anaconda3\\lib\\site-packages (from notebook>=4.4.1->widgetsnbextension~=3.5.0->ipywidgets>=7.0.0->cufflinks) (2.11.3)\n",
      "Requirement already satisfied: pywinpty>=0.5 in c:\\users\\anshu\\anaconda3\\lib\\site-packages (from terminado>=0.8.3->notebook>=4.4.1->widgetsnbextension~=3.5.0->ipywidgets>=7.0.0->cufflinks) (0.5.7)\n",
      "Requirement already satisfied: cffi>=1.0.0 in c:\\users\\anshu\\anaconda3\\lib\\site-packages (from argon2-cffi->notebook>=4.4.1->widgetsnbextension~=3.5.0->ipywidgets>=7.0.0->cufflinks) (1.14.6)\n",
      "Requirement already satisfied: pycparser in c:\\users\\anshu\\anaconda3\\lib\\site-packages (from cffi>=1.0.0->argon2-cffi->notebook>=4.4.1->widgetsnbextension~=3.5.0->ipywidgets>=7.0.0->cufflinks) (2.20)\n",
      "Requirement already satisfied: MarkupSafe>=0.23 in c:\\users\\anshu\\anaconda3\\lib\\site-packages (from jinja2->notebook>=4.4.1->widgetsnbextension~=3.5.0->ipywidgets>=7.0.0->cufflinks) (1.1.1)\n",
      "Requirement already satisfied: defusedxml in c:\\users\\anshu\\anaconda3\\lib\\site-packages (from nbconvert->notebook>=4.4.1->widgetsnbextension~=3.5.0->ipywidgets>=7.0.0->cufflinks) (0.7.1)\n",
      "Requirement already satisfied: mistune<2,>=0.8.1 in c:\\users\\anshu\\anaconda3\\lib\\site-packages (from nbconvert->notebook>=4.4.1->widgetsnbextension~=3.5.0->ipywidgets>=7.0.0->cufflinks) (0.8.4)\n",
      "Requirement already satisfied: nbclient<0.6.0,>=0.5.0 in c:\\users\\anshu\\anaconda3\\lib\\site-packages (from nbconvert->notebook>=4.4.1->widgetsnbextension~=3.5.0->ipywidgets>=7.0.0->cufflinks) (0.5.3)\n",
      "Requirement already satisfied: testpath in c:\\users\\anshu\\anaconda3\\lib\\site-packages (from nbconvert->notebook>=4.4.1->widgetsnbextension~=3.5.0->ipywidgets>=7.0.0->cufflinks) (0.5.0)\n",
      "Requirement already satisfied: entrypoints>=0.2.2 in c:\\users\\anshu\\anaconda3\\lib\\site-packages (from nbconvert->notebook>=4.4.1->widgetsnbextension~=3.5.0->ipywidgets>=7.0.0->cufflinks) (0.3)\n",
      "Requirement already satisfied: jupyterlab-pygments in c:\\users\\anshu\\anaconda3\\lib\\site-packages (from nbconvert->notebook>=4.4.1->widgetsnbextension~=3.5.0->ipywidgets>=7.0.0->cufflinks) (0.1.2)\n",
      "Requirement already satisfied: bleach in c:\\users\\anshu\\anaconda3\\lib\\site-packages (from nbconvert->notebook>=4.4.1->widgetsnbextension~=3.5.0->ipywidgets>=7.0.0->cufflinks) (4.0.0)\n",
      "Requirement already satisfied: pandocfilters>=1.4.1 in c:\\users\\anshu\\anaconda3\\lib\\site-packages (from nbconvert->notebook>=4.4.1->widgetsnbextension~=3.5.0->ipywidgets>=7.0.0->cufflinks) (1.4.3)\n",
      "Requirement already satisfied: nest-asyncio in c:\\users\\anshu\\anaconda3\\lib\\site-packages (from nbclient<0.6.0,>=0.5.0->nbconvert->notebook>=4.4.1->widgetsnbextension~=3.5.0->ipywidgets>=7.0.0->cufflinks) (1.5.1)\n",
      "Requirement already satisfied: async-generator in c:\\users\\anshu\\anaconda3\\lib\\site-packages (from nbclient<0.6.0,>=0.5.0->nbconvert->notebook>=4.4.1->widgetsnbextension~=3.5.0->ipywidgets>=7.0.0->cufflinks) (1.10)\n",
      "Requirement already satisfied: webencodings in c:\\users\\anshu\\anaconda3\\lib\\site-packages (from bleach->nbconvert->notebook>=4.4.1->widgetsnbextension~=3.5.0->ipywidgets>=7.0.0->cufflinks) (0.5.1)\n",
      "Requirement already satisfied: pyparsing>=2.0.2 in c:\\users\\anshu\\anaconda3\\lib\\site-packages (from packaging->plotly>=4.1.1->cufflinks) (3.0.4)\n"
     ]
    }
   ],
   "source": [
    "!pip install wordcloud\n",
    "!pip install contractions\n",
    "!pip install chart-studio\n",
    "!pip install cufflinks --upgrade"
   ]
  },
  {
   "cell_type": "code",
   "execution_count": 157,
   "metadata": {
    "id": "UnV1QEaAuUWb"
   },
   "outputs": [],
   "source": [
    "import numpy as np # Linear algebra\n",
    "import pandas as pd # Data processing, CSV file I/O \n",
    "import seaborn as sns # Data visualization and exploratory data analysis\n",
    "import matplotlib.pyplot as plt # Data visualization and graphical plotting\n",
    "\n",
    "\n",
    "# Importing natural language processing packages\n",
    "import re\n",
    "import chart_studio\n",
    "import nltk\n",
    "import contractions\n",
    "from nltk.corpus import stopwords \n",
    "from nltk.tokenize import word_tokenize \n",
    "from nltk.stem import PorterStemmer\n",
    "from sklearn.feature_extraction.text import TfidfVectorizer\n",
    "from sklearn.feature_extraction.text import CountVectorizer\n",
    "import chart_studio.plotly as py\n",
    "from wordcloud import WordCloud, STOPWORDS, ImageColorGenerator\n",
    "from PIL import Image\n",
    "import itertools\n",
    "\n",
    "\n",
    "from sklearn.cluster import KMeans\n",
    "\n",
    "\n",
    "import time\n",
    "import warnings\n",
    "warnings.filterwarnings('ignore')"
   ]
  },
  {
   "cell_type": "code",
   "execution_count": 158,
   "metadata": {
    "colab": {
     "base_uri": "https://localhost:8080/",
     "height": 17
    },
    "id": "VFKjoUDMIOyd",
    "outputId": "a6b73801-ee49-432d-f22e-86d53ab26cf1"
   },
   "outputs": [
    {
     "data": {
      "text/html": [
       "        <script type=\"text/javascript\">\n",
       "        window.PlotlyConfig = {MathJaxConfig: 'local'};\n",
       "        if (window.MathJax && window.MathJax.Hub && window.MathJax.Hub.Config) {window.MathJax.Hub.Config({SVG: {font: \"STIX-Web\"}});}\n",
       "        if (typeof require !== 'undefined') {\n",
       "        require.undef(\"plotly\");\n",
       "        requirejs.config({\n",
       "            paths: {\n",
       "                'plotly': ['https://cdn.plot.ly/plotly-2.20.0.min']\n",
       "            }\n",
       "        });\n",
       "        require(['plotly'], function(Plotly) {\n",
       "            window._Plotly = Plotly;\n",
       "        });\n",
       "        }\n",
       "        </script>\n",
       "        "
      ]
     },
     "metadata": {},
     "output_type": "display_data"
    }
   ],
   "source": [
    "import cufflinks as cf\n",
    "cf.go_offline()\n",
    "cf.set_config_file(offline=False, world_readable=True)"
   ]
  },
  {
   "cell_type": "code",
   "execution_count": 159,
   "metadata": {
    "id": "isHpJnSiIa7y"
   },
   "outputs": [],
   "source": [
    "from plotly.offline import init_notebook_mode, iplot"
   ]
  },
  {
   "cell_type": "code",
   "execution_count": 160,
   "metadata": {
    "colab": {
     "base_uri": "https://localhost:8080/"
    },
    "id": "AW9uvAYH85KW",
    "outputId": "1a2acb19-b4bf-4fa5-8c9b-8d9cd9443c98"
   },
   "outputs": [
    {
     "name": "stderr",
     "output_type": "stream",
     "text": [
      "[nltk_data] Downloading package punkt to\n",
      "[nltk_data]     C:\\Users\\anshu\\AppData\\Roaming\\nltk_data...\n",
      "[nltk_data]   Package punkt is already up-to-date!\n",
      "[nltk_data] Downloading package stopwords to\n",
      "[nltk_data]     C:\\Users\\anshu\\AppData\\Roaming\\nltk_data...\n",
      "[nltk_data]   Package stopwords is already up-to-date!\n",
      "[nltk_data] Downloading package wordnet to\n",
      "[nltk_data]     C:\\Users\\anshu\\AppData\\Roaming\\nltk_data...\n",
      "[nltk_data]   Package wordnet is already up-to-date!\n"
     ]
    },
    {
     "data": {
      "text/plain": [
       "True"
      ]
     },
     "execution_count": 160,
     "metadata": {},
     "output_type": "execute_result"
    }
   ],
   "source": [
    "nltk.download('punkt')\n",
    "nltk.download('stopwords')\n",
    "nltk.download('wordnet')"
   ]
  },
  {
   "cell_type": "markdown",
   "metadata": {},
   "source": [
    "## Data Importing and Pre-Processing"
   ]
  },
  {
   "cell_type": "code",
   "execution_count": 161,
   "metadata": {
    "colab": {
     "base_uri": "https://localhost:8080/",
     "height": 930
    },
    "id": "c9rNUcbdubB3",
    "outputId": "8abe209d-f4d6-4bd2-a9dd-2361cba5b85a"
   },
   "outputs": [
    {
     "data": {
      "text/html": [
       "<div>\n",
       "<style scoped>\n",
       "    .dataframe tbody tr th:only-of-type {\n",
       "        vertical-align: middle;\n",
       "    }\n",
       "\n",
       "    .dataframe tbody tr th {\n",
       "        vertical-align: top;\n",
       "    }\n",
       "\n",
       "    .dataframe thead th {\n",
       "        text-align: right;\n",
       "    }\n",
       "</style>\n",
       "<table border=\"1\" class=\"dataframe\">\n",
       "  <thead>\n",
       "    <tr style=\"text-align: right;\">\n",
       "      <th></th>\n",
       "      <th>User</th>\n",
       "      <th>Video Title</th>\n",
       "      <th>Video Description</th>\n",
       "      <th>Video ID</th>\n",
       "      <th>Comment (Displayed)</th>\n",
       "      <th>Comment (Actual)</th>\n",
       "      <th>Comment Author</th>\n",
       "      <th>Comment Author Channel ID</th>\n",
       "      <th>Comment Time</th>\n",
       "    </tr>\n",
       "  </thead>\n",
       "  <tbody>\n",
       "    <tr>\n",
       "      <th>347558</th>\n",
       "      <td>https://public-archive.web.cern.ch/en/LHC/WhyL...</td>\n",
       "      <td>PCuyCJocJWg</td>\n",
       "      <td>Is</td>\n",
       "      <td>NaN</td>\n",
       "      <td>NaN</td>\n",
       "      <td>NaN</td>\n",
       "      <td>NaN</td>\n",
       "      <td>NaN</td>\n",
       "      <td>NaN</td>\n",
       "    </tr>\n",
       "    <tr>\n",
       "      <th>217360</th>\n",
       "      <td>Physics Girl</td>\n",
       "      <td>I drove 1800 miles in a Hydrogen Car</td>\n",
       "      <td>I drove 1800 miles in a Hydrogen Fuel Cell Car...</td>\n",
       "      <td>hghIckc7nrY</td>\n",
       "      <td>I am not surprised that it does not burn hydro...</td>\n",
       "      <td>I am not surprised that it does not burn hydro...</td>\n",
       "      <td>Weston Ding</td>\n",
       "      <td>UCYg764wwFlObiro1QD_v4hw</td>\n",
       "      <td>2021-08-09T22:30:13Z</td>\n",
       "    </tr>\n",
       "    <tr>\n",
       "      <th>668984</th>\n",
       "      <td>is HOOOOOOOOOOOT...........</td>\n",
       "      <td>Physics Girl</td>\n",
       "      <td>NaN</td>\n",
       "      <td>NaN</td>\n",
       "      <td>NaN</td>\n",
       "      <td>NaN</td>\n",
       "      <td>NaN</td>\n",
       "      <td>NaN</td>\n",
       "      <td>NaN</td>\n",
       "    </tr>\n",
       "    <tr>\n",
       "      <th>727157</th>\n",
       "      <td>Physics Girl</td>\n",
       "      <td>The HIDDEN Magnets in Your Phone ft. MKBHD</td>\n",
       "      <td>Magnet paper or magnet film shows you where ma...</td>\n",
       "      <td>HodWkE0G28M</td>\n",
       "      <td>Time to mess with an old TV or computer Monitor</td>\n",
       "      <td>Time to mess with an old TV or computer Monitor</td>\n",
       "      <td>Evan Moon</td>\n",
       "      <td>UC1mDiefapyevLLZfjJc3uSQ</td>\n",
       "      <td>2019-04-10T00:54:31Z</td>\n",
       "    </tr>\n",
       "    <tr>\n",
       "      <th>647531</th>\n",
       "      <td>Produced By: Kornhaber Brown\"</td>\n",
       "      <td>jtp71NT0GNg</td>\n",
       "      <td>Physics Girl</td>\n",
       "      <td>NaN</td>\n",
       "      <td>NaN</td>\n",
       "      <td>NaN</td>\n",
       "      <td>NaN</td>\n",
       "      <td>NaN</td>\n",
       "      <td>NaN</td>\n",
       "    </tr>\n",
       "    <tr>\n",
       "      <th>550010</th>\n",
       "      <td>Venting years of frustrations</td>\n",
       "      <td>It's a primitive clash</td>\n",
       "      <td>NaN</td>\n",
       "      <td>NaN</td>\n",
       "      <td>NaN</td>\n",
       "      <td>NaN</td>\n",
       "      <td>NaN</td>\n",
       "      <td>NaN</td>\n",
       "      <td>NaN</td>\n",
       "    </tr>\n",
       "    <tr>\n",
       "      <th>658866</th>\n",
       "      <td>is HOOOOOOOOOOOT...........</td>\n",
       "      <td>Physics Girl</td>\n",
       "      <td>NaN</td>\n",
       "      <td>NaN</td>\n",
       "      <td>NaN</td>\n",
       "      <td>NaN</td>\n",
       "      <td>NaN</td>\n",
       "      <td>NaN</td>\n",
       "      <td>NaN</td>\n",
       "    </tr>\n",
       "    <tr>\n",
       "      <th>613215</th>\n",
       "      <td>Produced By: Kornhaber Brown\"</td>\n",
       "      <td>jtp71NT0GNg</td>\n",
       "      <td>Physics Girl</td>\n",
       "      <td>NaN</td>\n",
       "      <td>NaN</td>\n",
       "      <td>NaN</td>\n",
       "      <td>NaN</td>\n",
       "      <td>NaN</td>\n",
       "      <td>NaN</td>\n",
       "    </tr>\n",
       "    <tr>\n",
       "      <th>589041</th>\n",
       "      <td>Venting years of frustrations</td>\n",
       "      <td>It's a primitive clash</td>\n",
       "      <td>NaN</td>\n",
       "      <td>NaN</td>\n",
       "      <td>NaN</td>\n",
       "      <td>NaN</td>\n",
       "      <td>NaN</td>\n",
       "      <td>NaN</td>\n",
       "      <td>NaN</td>\n",
       "    </tr>\n",
       "    <tr>\n",
       "      <th>59883</th>\n",
       "      <td>neo</td>\n",
       "      <td>Which Building Is Taller?</td>\n",
       "      <td>This seems like a simple question, take two sk...</td>\n",
       "      <td>smygOm4S9W4</td>\n",
       "      <td>Guys take measuring penis length and apply tha...</td>\n",
       "      <td>Guys take measuring penis length and apply tha...</td>\n",
       "      <td>Kiss Myass</td>\n",
       "      <td>UC6TRq2FjUcqTtXS-7P28yBg</td>\n",
       "      <td>2023-03-03T22:49:41Z</td>\n",
       "    </tr>\n",
       "  </tbody>\n",
       "</table>\n",
       "</div>"
      ],
      "text/plain": [
       "                                                     User  \\\n",
       "347558  https://public-archive.web.cern.ch/en/LHC/WhyL...   \n",
       "217360                                       Physics Girl   \n",
       "668984                        is HOOOOOOOOOOOT...........   \n",
       "727157                                       Physics Girl   \n",
       "647531                      Produced By: Kornhaber Brown\"   \n",
       "550010                      Venting years of frustrations   \n",
       "658866                        is HOOOOOOOOOOOT...........   \n",
       "613215                      Produced By: Kornhaber Brown\"   \n",
       "589041                      Venting years of frustrations   \n",
       "59883                                                 neo   \n",
       "\n",
       "                                       Video Title  \\\n",
       "347558                                 PCuyCJocJWg   \n",
       "217360        I drove 1800 miles in a Hydrogen Car   \n",
       "668984                                Physics Girl   \n",
       "727157  The HIDDEN Magnets in Your Phone ft. MKBHD   \n",
       "647531                                 jtp71NT0GNg   \n",
       "550010                      It's a primitive clash   \n",
       "658866                                Physics Girl   \n",
       "613215                                 jtp71NT0GNg   \n",
       "589041                      It's a primitive clash   \n",
       "59883                    Which Building Is Taller?   \n",
       "\n",
       "                                        Video Description     Video ID  \\\n",
       "347558                                                Is           NaN   \n",
       "217360  I drove 1800 miles in a Hydrogen Fuel Cell Car...  hghIckc7nrY   \n",
       "668984                                                NaN          NaN   \n",
       "727157  Magnet paper or magnet film shows you where ma...  HodWkE0G28M   \n",
       "647531                                       Physics Girl          NaN   \n",
       "550010                                                NaN          NaN   \n",
       "658866                                                NaN          NaN   \n",
       "613215                                       Physics Girl          NaN   \n",
       "589041                                                NaN          NaN   \n",
       "59883   This seems like a simple question, take two sk...  smygOm4S9W4   \n",
       "\n",
       "                                      Comment (Displayed)  \\\n",
       "347558                                                NaN   \n",
       "217360  I am not surprised that it does not burn hydro...   \n",
       "668984                                                NaN   \n",
       "727157    Time to mess with an old TV or computer Monitor   \n",
       "647531                                                NaN   \n",
       "550010                                                NaN   \n",
       "658866                                                NaN   \n",
       "613215                                                NaN   \n",
       "589041                                                NaN   \n",
       "59883   Guys take measuring penis length and apply tha...   \n",
       "\n",
       "                                         Comment (Actual) Comment Author  \\\n",
       "347558                                                NaN            NaN   \n",
       "217360  I am not surprised that it does not burn hydro...    Weston Ding   \n",
       "668984                                                NaN            NaN   \n",
       "727157    Time to mess with an old TV or computer Monitor      Evan Moon   \n",
       "647531                                                NaN            NaN   \n",
       "550010                                                NaN            NaN   \n",
       "658866                                                NaN            NaN   \n",
       "613215                                                NaN            NaN   \n",
       "589041                                                NaN            NaN   \n",
       "59883   Guys take measuring penis length and apply tha...     Kiss Myass   \n",
       "\n",
       "       Comment Author Channel ID          Comment Time  \n",
       "347558                       NaN                   NaN  \n",
       "217360  UCYg764wwFlObiro1QD_v4hw  2021-08-09T22:30:13Z  \n",
       "668984                       NaN                   NaN  \n",
       "727157  UC1mDiefapyevLLZfjJc3uSQ  2019-04-10T00:54:31Z  \n",
       "647531                       NaN                   NaN  \n",
       "550010                       NaN                   NaN  \n",
       "658866                       NaN                   NaN  \n",
       "613215                       NaN                   NaN  \n",
       "589041                       NaN                   NaN  \n",
       "59883   UC6TRq2FjUcqTtXS-7P28yBg  2023-03-03T22:49:41Z  "
      ]
     },
     "execution_count": 161,
     "metadata": {},
     "output_type": "execute_result"
    }
   ],
   "source": [
    "path1 = \"/Users/anshu/Downloads/YT_Videos_Comments.csv\"\n",
    "df = pd.read_csv(path1)\n",
    "df.sample(n=10)"
   ]
  },
  {
   "cell_type": "code",
   "execution_count": 162,
   "metadata": {
    "colab": {
     "base_uri": "https://localhost:8080/"
    },
    "id": "EcUCVukDurw4",
    "outputId": "69cc8b4e-a965-40c9-bd9e-300fcd9dc8e8"
   },
   "outputs": [
    {
     "data": {
      "text/plain": [
       "(861962, 9)"
      ]
     },
     "execution_count": 162,
     "metadata": {},
     "output_type": "execute_result"
    }
   ],
   "source": [
    "df.shape"
   ]
  },
  {
   "cell_type": "code",
   "execution_count": 163,
   "metadata": {
    "colab": {
     "base_uri": "https://localhost:8080/"
    },
    "id": "pZ4qfiA6uyGY",
    "outputId": "fbf5c9cc-39ad-48fe-99d5-b585fc06aa9d"
   },
   "outputs": [
    {
     "data": {
      "text/plain": [
       "User                              0\n",
       "Video Title                     149\n",
       "Video Description            196767\n",
       "Video ID                     429330\n",
       "Comment (Displayed)          467375\n",
       "Comment (Actual)             482881\n",
       "Comment Author               482909\n",
       "Comment Author Channel ID    482868\n",
       "Comment Time                 482862\n",
       "dtype: int64"
      ]
     },
     "execution_count": 163,
     "metadata": {},
     "output_type": "execute_result"
    }
   ],
   "source": [
    "df.isnull().sum()"
   ]
  },
  {
   "cell_type": "code",
   "execution_count": 164,
   "metadata": {
    "id": "sqsN0o4eu0LN"
   },
   "outputs": [],
   "source": [
    "df=df.dropna()"
   ]
  },
  {
   "cell_type": "code",
   "execution_count": 165,
   "metadata": {
    "colab": {
     "base_uri": "https://localhost:8080/"
    },
    "id": "vYNBnAkku_09",
    "outputId": "d4778da7-8e2e-4404-f419-297843b6fac6"
   },
   "outputs": [
    {
     "data": {
      "text/plain": [
       "User                         0\n",
       "Video Title                  0\n",
       "Video Description            0\n",
       "Video ID                     0\n",
       "Comment (Displayed)          0\n",
       "Comment (Actual)             0\n",
       "Comment Author               0\n",
       "Comment Author Channel ID    0\n",
       "Comment Time                 0\n",
       "dtype: int64"
      ]
     },
     "execution_count": 165,
     "metadata": {},
     "output_type": "execute_result"
    }
   ],
   "source": [
    "df.isnull().sum()"
   ]
  },
  {
   "cell_type": "code",
   "execution_count": 166,
   "metadata": {
    "colab": {
     "base_uri": "https://localhost:8080/",
     "height": 1000
    },
    "id": "nsBQetZavEoy",
    "outputId": "fa7af2fd-d418-488b-f2d6-2365d8eadb59"
   },
   "outputs": [
    {
     "data": {
      "text/html": [
       "<div>\n",
       "<style scoped>\n",
       "    .dataframe tbody tr th:only-of-type {\n",
       "        vertical-align: middle;\n",
       "    }\n",
       "\n",
       "    .dataframe tbody tr th {\n",
       "        vertical-align: top;\n",
       "    }\n",
       "\n",
       "    .dataframe thead th {\n",
       "        text-align: right;\n",
       "    }\n",
       "</style>\n",
       "<table border=\"1\" class=\"dataframe\">\n",
       "  <thead>\n",
       "    <tr style=\"text-align: right;\">\n",
       "      <th></th>\n",
       "      <th>User</th>\n",
       "      <th>Video Title</th>\n",
       "      <th>Video Description</th>\n",
       "      <th>Video ID</th>\n",
       "      <th>Comment (Displayed)</th>\n",
       "      <th>Comment (Actual)</th>\n",
       "      <th>Comment Author</th>\n",
       "      <th>Comment Author Channel ID</th>\n",
       "      <th>Comment Time</th>\n",
       "    </tr>\n",
       "  </thead>\n",
       "  <tbody>\n",
       "    <tr>\n",
       "      <th>739271</th>\n",
       "      <td>Physics Girl</td>\n",
       "      <td>The Projector Illusion |  EVERYDAY MYSTERIES</td>\n",
       "      <td>Have you ever seen a blur of color when lookin...</td>\n",
       "      <td>Xp6bxCh_p7c</td>\n",
       "      <td>That&amp;#39;s why people say that animals see &amp;qu...</td>\n",
       "      <td>That's why people say that animals see \"differ...</td>\n",
       "      <td>Theodoros Pantelides</td>\n",
       "      <td>UCo5jheixH2HgLJ7g7QsXC2w</td>\n",
       "      <td>2018-08-09T14:11:05Z</td>\n",
       "    </tr>\n",
       "    <tr>\n",
       "      <th>231869</th>\n",
       "      <td>Physics Girl</td>\n",
       "      <td>This result could change physics forever</td>\n",
       "      <td>Explaining the exciting new Fermilab muon resu...</td>\n",
       "      <td>0roQUZvU-As</td>\n",
       "      <td>Missed all good days when I got my master in p...</td>\n",
       "      <td>Missed all good days when I got my master in p...</td>\n",
       "      <td>Bahram Dolati</td>\n",
       "      <td>UCDOH4kMg6j7RwlHHzehWYFA</td>\n",
       "      <td>2021-04-09T20:25:17Z</td>\n",
       "    </tr>\n",
       "    <tr>\n",
       "      <th>268303</th>\n",
       "      <td>Physics Girl</td>\n",
       "      <td>Are planes safe during COVID?</td>\n",
       "      <td>How likely are you to get sick on an airplane?...</td>\n",
       "      <td>NUCru4p15-4</td>\n",
       "      <td>Diosa</td>\n",
       "      <td>Diosa</td>\n",
       "      <td>Moises Bejarano</td>\n",
       "      <td>UCevYWBTvdWKpZTDUHhaa0vA</td>\n",
       "      <td>2020-07-30T01:17:14Z</td>\n",
       "    </tr>\n",
       "    <tr>\n",
       "      <th>742170</th>\n",
       "      <td>Physics Girl</td>\n",
       "      <td>Ice Diamond Riddle SOLUTION ft. Vsauce's Micha...</td>\n",
       "      <td>Check out Vsauce! https://www.youtube.com/user...</td>\n",
       "      <td>E1W72yddW64</td>\n",
       "      <td>those are children-riddles, how should someone...</td>\n",
       "      <td>those are children-riddles, how should someone...</td>\n",
       "      <td>Julius Unique</td>\n",
       "      <td>UCgdsw7oCx_6UWiZPmY4AzFA</td>\n",
       "      <td>2018-07-06T22:58:42Z</td>\n",
       "    </tr>\n",
       "    <tr>\n",
       "      <th>180206</th>\n",
       "      <td>Physics Girl</td>\n",
       "      <td>It's Official: We Were WRONG About the Big Bang</td>\n",
       "      <td>What is the universe expanding into? Where did...</td>\n",
       "      <td>I9q-7GPQr1Y</td>\n",
       "      <td>I don&amp;#39;t like the interview style, you spea...</td>\n",
       "      <td>I don't like the interview style, you speak to...</td>\n",
       "      <td>PoliticalWrong</td>\n",
       "      <td>UCQkhCz1N2pUeZnEbCKN7MkA</td>\n",
       "      <td>2021-11-26T18:17:18Z</td>\n",
       "    </tr>\n",
       "    <tr>\n",
       "      <th>819309</th>\n",
       "      <td>Physics Girl</td>\n",
       "      <td>5 LIFE HACKS BASED ON SCIENCE</td>\n",
       "      <td>These short, simple life hacks are based on ph...</td>\n",
       "      <td>buVUvnM_AzU</td>\n",
       "      <td>lYf HacC</td>\n",
       "      <td>lYf HacC</td>\n",
       "      <td>Joey Ouyang</td>\n",
       "      <td>UC5KTmJAv73yobG7lJcwAkzA</td>\n",
       "      <td>2017-08-31T00:18:04Z</td>\n",
       "    </tr>\n",
       "    <tr>\n",
       "      <th>235729</th>\n",
       "      <td>Physics Girl</td>\n",
       "      <td>Gravity and Orbital Mechanics - Physics 101 / ...</td>\n",
       "      <td>Lesson 8 (Gravitation and Orbits) of Dianna's ...</td>\n",
       "      <td>IjqKcGK-ccY</td>\n",
       "      <td>No cross outs , magic marker use is perfect. A...</td>\n",
       "      <td>No cross outs , magic marker use is perfect. A...</td>\n",
       "      <td>I am puzzleman</td>\n",
       "      <td>UC9ZnyGbcOA2hN_C2gkC7Z-g</td>\n",
       "      <td>2020-10-29T19:32:10Z</td>\n",
       "    </tr>\n",
       "    <tr>\n",
       "      <th>225008</th>\n",
       "      <td>Physics Girl</td>\n",
       "      <td>World's Only Moving Mud Puddle</td>\n",
       "      <td>Want to support more videos like this? Patreon...</td>\n",
       "      <td>Ek1buV2HA68</td>\n",
       "      <td>dear youtube algorithm, thank you for suggesti...</td>\n",
       "      <td>dear youtube algorithm, thank you for suggesti...</td>\n",
       "      <td>Dogdog</td>\n",
       "      <td>UCcF6SdNFg7_SE_0_xhaeRUw</td>\n",
       "      <td>2021-05-12T06:44:15Z</td>\n",
       "    </tr>\n",
       "    <tr>\n",
       "      <th>36151</th>\n",
       "      <td>Jet Lag: The Game</td>\n",
       "      <td>We Raced To Visit The Most US States In 100 Hours</td>\n",
       "      <td>Watch the next episode of Jet Lag right now on...</td>\n",
       "      <td>E0ejkkFT3V0</td>\n",
       "      <td>so excited!</td>\n",
       "      <td>so excited!</td>\n",
       "      <td>Talis</td>\n",
       "      <td>UCRUbSiX_Wu7WIcuY1-7qT5Q</td>\n",
       "      <td>2022-12-14T16:59:04Z</td>\n",
       "    </tr>\n",
       "    <tr>\n",
       "      <th>163702</th>\n",
       "      <td>Physics Girl</td>\n",
       "      <td>99 Years Later... We Solved It</td>\n",
       "      <td>How do these rocks move on their own in the de...</td>\n",
       "      <td>JFFhD5HeByM</td>\n",
       "      <td>Great job! Better not solve the mystery of Big...</td>\n",
       "      <td>Great job! Better not solve the mystery of Big...</td>\n",
       "      <td>Back Achers Homestead</td>\n",
       "      <td>UCivf86FKJ8SyrCHSwRLgzzA</td>\n",
       "      <td>2022-04-03T14:06:09Z</td>\n",
       "    </tr>\n",
       "  </tbody>\n",
       "</table>\n",
       "</div>"
      ],
      "text/plain": [
       "                     User                                        Video Title  \\\n",
       "739271       Physics Girl       The Projector Illusion |  EVERYDAY MYSTERIES   \n",
       "231869       Physics Girl           This result could change physics forever   \n",
       "268303       Physics Girl                      Are planes safe during COVID?   \n",
       "742170       Physics Girl  Ice Diamond Riddle SOLUTION ft. Vsauce's Micha...   \n",
       "180206       Physics Girl    It's Official: We Were WRONG About the Big Bang   \n",
       "819309       Physics Girl                      5 LIFE HACKS BASED ON SCIENCE   \n",
       "235729       Physics Girl  Gravity and Orbital Mechanics - Physics 101 / ...   \n",
       "225008       Physics Girl                     World's Only Moving Mud Puddle   \n",
       "36151   Jet Lag: The Game  We Raced To Visit The Most US States In 100 Hours   \n",
       "163702       Physics Girl                     99 Years Later... We Solved It   \n",
       "\n",
       "                                        Video Description     Video ID  \\\n",
       "739271  Have you ever seen a blur of color when lookin...  Xp6bxCh_p7c   \n",
       "231869  Explaining the exciting new Fermilab muon resu...  0roQUZvU-As   \n",
       "268303  How likely are you to get sick on an airplane?...  NUCru4p15-4   \n",
       "742170  Check out Vsauce! https://www.youtube.com/user...  E1W72yddW64   \n",
       "180206  What is the universe expanding into? Where did...  I9q-7GPQr1Y   \n",
       "819309  These short, simple life hacks are based on ph...  buVUvnM_AzU   \n",
       "235729  Lesson 8 (Gravitation and Orbits) of Dianna's ...  IjqKcGK-ccY   \n",
       "225008  Want to support more videos like this? Patreon...  Ek1buV2HA68   \n",
       "36151   Watch the next episode of Jet Lag right now on...  E0ejkkFT3V0   \n",
       "163702  How do these rocks move on their own in the de...  JFFhD5HeByM   \n",
       "\n",
       "                                      Comment (Displayed)  \\\n",
       "739271  That&#39;s why people say that animals see &qu...   \n",
       "231869  Missed all good days when I got my master in p...   \n",
       "268303                                              Diosa   \n",
       "742170  those are children-riddles, how should someone...   \n",
       "180206  I don&#39;t like the interview style, you spea...   \n",
       "819309                                           lYf HacC   \n",
       "235729  No cross outs , magic marker use is perfect. A...   \n",
       "225008  dear youtube algorithm, thank you for suggesti...   \n",
       "36151                                         so excited!   \n",
       "163702  Great job! Better not solve the mystery of Big...   \n",
       "\n",
       "                                         Comment (Actual)  \\\n",
       "739271  That's why people say that animals see \"differ...   \n",
       "231869  Missed all good days when I got my master in p...   \n",
       "268303                                              Diosa   \n",
       "742170  those are children-riddles, how should someone...   \n",
       "180206  I don't like the interview style, you speak to...   \n",
       "819309                                           lYf HacC   \n",
       "235729  No cross outs , magic marker use is perfect. A...   \n",
       "225008  dear youtube algorithm, thank you for suggesti...   \n",
       "36151                                         so excited!   \n",
       "163702  Great job! Better not solve the mystery of Big...   \n",
       "\n",
       "               Comment Author Comment Author Channel ID          Comment Time  \n",
       "739271   Theodoros Pantelides  UCo5jheixH2HgLJ7g7QsXC2w  2018-08-09T14:11:05Z  \n",
       "231869          Bahram Dolati  UCDOH4kMg6j7RwlHHzehWYFA  2021-04-09T20:25:17Z  \n",
       "268303        Moises Bejarano  UCevYWBTvdWKpZTDUHhaa0vA  2020-07-30T01:17:14Z  \n",
       "742170          Julius Unique  UCgdsw7oCx_6UWiZPmY4AzFA  2018-07-06T22:58:42Z  \n",
       "180206         PoliticalWrong  UCQkhCz1N2pUeZnEbCKN7MkA  2021-11-26T18:17:18Z  \n",
       "819309            Joey Ouyang  UC5KTmJAv73yobG7lJcwAkzA  2017-08-31T00:18:04Z  \n",
       "235729         I am puzzleman  UC9ZnyGbcOA2hN_C2gkC7Z-g  2020-10-29T19:32:10Z  \n",
       "225008                 Dogdog  UCcF6SdNFg7_SE_0_xhaeRUw  2021-05-12T06:44:15Z  \n",
       "36151                   Talis  UCRUbSiX_Wu7WIcuY1-7qT5Q  2022-12-14T16:59:04Z  \n",
       "163702  Back Achers Homestead  UCivf86FKJ8SyrCHSwRLgzzA  2022-04-03T14:06:09Z  "
      ]
     },
     "execution_count": 166,
     "metadata": {},
     "output_type": "execute_result"
    }
   ],
   "source": [
    "df.sample(n=10)\n"
   ]
  },
  {
   "cell_type": "code",
   "execution_count": 167,
   "metadata": {
    "colab": {
     "base_uri": "https://localhost:8080/",
     "height": 363
    },
    "id": "mQlaKTj_vdX-",
    "outputId": "1a6bbf60-362e-4aa0-d01a-767b577abcb3"
   },
   "outputs": [
    {
     "data": {
      "text/html": [
       "<div>\n",
       "<style scoped>\n",
       "    .dataframe tbody tr th:only-of-type {\n",
       "        vertical-align: middle;\n",
       "    }\n",
       "\n",
       "    .dataframe tbody tr th {\n",
       "        vertical-align: top;\n",
       "    }\n",
       "\n",
       "    .dataframe thead th {\n",
       "        text-align: right;\n",
       "    }\n",
       "</style>\n",
       "<table border=\"1\" class=\"dataframe\">\n",
       "  <thead>\n",
       "    <tr style=\"text-align: right;\">\n",
       "      <th></th>\n",
       "      <th>Comment (Actual)</th>\n",
       "      <th>Comment Author Channel ID</th>\n",
       "    </tr>\n",
       "  </thead>\n",
       "  <tbody>\n",
       "    <tr>\n",
       "      <th>834579</th>\n",
       "      <td>Can I please go there?!\\nI don't wanna live in...</td>\n",
       "      <td>UChcdllnjp1rpXgAAiPL2ERg</td>\n",
       "    </tr>\n",
       "    <tr>\n",
       "      <th>24656</th>\n",
       "      <td>Exactly, the idea of starlink is very nice but...</td>\n",
       "      <td>UCkMVSvgutGyWpypKiijjItw</td>\n",
       "    </tr>\n",
       "    <tr>\n",
       "      <th>83568</th>\n",
       "      <td>My neo</td>\n",
       "      <td>UCGHu94-UcVXe4OSJW0SrsTg</td>\n",
       "    </tr>\n",
       "    <tr>\n",
       "      <th>211329</th>\n",
       "      <td>95% of Hydrogen is made using Methane and meth...</td>\n",
       "      <td>UCuJ6XH3OAWE4jMzXyo9L79w</td>\n",
       "    </tr>\n",
       "    <tr>\n",
       "      <th>728998</th>\n",
       "      <td>It appears that Stephen Hawking has contribute...</td>\n",
       "      <td>UCYAt9_wqkhZqPKR97n1cq1Q</td>\n",
       "    </tr>\n",
       "    <tr>\n",
       "      <th>156916</th>\n",
       "      <td>they are much like mini glaciers.</td>\n",
       "      <td>UCx1EbfUcY-QCUJJTR58-3iw</td>\n",
       "    </tr>\n",
       "    <tr>\n",
       "      <th>282773</th>\n",
       "      <td>What is the constant for pressure due to photo...</td>\n",
       "      <td>UCttC7lq8xv-pWptSxCCw_iQ</td>\n",
       "    </tr>\n",
       "    <tr>\n",
       "      <th>162975</th>\n",
       "      <td>no man, it's the pioneers, they used to ride t...</td>\n",
       "      <td>UCvrkqGrimGmWixliLjXEpQA</td>\n",
       "    </tr>\n",
       "    <tr>\n",
       "      <th>44091</th>\n",
       "      <td>like the vid</td>\n",
       "      <td>UCmjxqeR-9cjsvyjVvBTbEPQ</td>\n",
       "    </tr>\n",
       "    <tr>\n",
       "      <th>117671</th>\n",
       "      <td>Hi Dianna, I used to watch your videos since I...</td>\n",
       "      <td>UCxOSFCyWvZ69g0EWKkizy2g</td>\n",
       "    </tr>\n",
       "  </tbody>\n",
       "</table>\n",
       "</div>"
      ],
      "text/plain": [
       "                                         Comment (Actual)  \\\n",
       "834579  Can I please go there?!\\nI don't wanna live in...   \n",
       "24656   Exactly, the idea of starlink is very nice but...   \n",
       "83568                                              My neo   \n",
       "211329  95% of Hydrogen is made using Methane and meth...   \n",
       "728998  It appears that Stephen Hawking has contribute...   \n",
       "156916                  they are much like mini glaciers.   \n",
       "282773  What is the constant for pressure due to photo...   \n",
       "162975  no man, it's the pioneers, they used to ride t...   \n",
       "44091                                        like the vid   \n",
       "117671  Hi Dianna, I used to watch your videos since I...   \n",
       "\n",
       "       Comment Author Channel ID  \n",
       "834579  UChcdllnjp1rpXgAAiPL2ERg  \n",
       "24656   UCkMVSvgutGyWpypKiijjItw  \n",
       "83568   UCGHu94-UcVXe4OSJW0SrsTg  \n",
       "211329  UCuJ6XH3OAWE4jMzXyo9L79w  \n",
       "728998  UCYAt9_wqkhZqPKR97n1cq1Q  \n",
       "156916  UCx1EbfUcY-QCUJJTR58-3iw  \n",
       "282773  UCttC7lq8xv-pWptSxCCw_iQ  \n",
       "162975  UCvrkqGrimGmWixliLjXEpQA  \n",
       "44091   UCmjxqeR-9cjsvyjVvBTbEPQ  \n",
       "117671  UCxOSFCyWvZ69g0EWKkizy2g  "
      ]
     },
     "execution_count": 167,
     "metadata": {},
     "output_type": "execute_result"
    }
   ],
   "source": [
    "df.drop(['Video Title','User', 'Video Description','Video ID','Comment Time', 'Comment Author','Comment (Displayed)'], axis=1, inplace=True)\n",
    "df.sample(n=10)"
   ]
  },
  {
   "cell_type": "code",
   "execution_count": 168,
   "metadata": {
    "colab": {
     "base_uri": "https://localhost:8080/",
     "height": 206
    },
    "id": "Dvb6rKiuo843",
    "outputId": "b5437781-5f6a-4456-dd55-65e7230790a6"
   },
   "outputs": [
    {
     "data": {
      "text/html": [
       "<div>\n",
       "<style scoped>\n",
       "    .dataframe tbody tr th:only-of-type {\n",
       "        vertical-align: middle;\n",
       "    }\n",
       "\n",
       "    .dataframe tbody tr th {\n",
       "        vertical-align: top;\n",
       "    }\n",
       "\n",
       "    .dataframe thead th {\n",
       "        text-align: right;\n",
       "    }\n",
       "</style>\n",
       "<table border=\"1\" class=\"dataframe\">\n",
       "  <thead>\n",
       "    <tr style=\"text-align: right;\">\n",
       "      <th></th>\n",
       "      <th>Comment (Actual)</th>\n",
       "      <th>Comment Author Channel ID</th>\n",
       "    </tr>\n",
       "  </thead>\n",
       "  <tbody>\n",
       "    <tr>\n",
       "      <th>0</th>\n",
       "      <td>zombie spider!! bomb the damn lab before it's ...</td>\n",
       "      <td>UC-F6GFyxAqGhN3_MEJLksxg</td>\n",
       "    </tr>\n",
       "    <tr>\n",
       "      <th>1</th>\n",
       "      <td>This is way less cool than it seems, spiders a...</td>\n",
       "      <td>UCZKnVEtNze-fFxCvsRnaIuA</td>\n",
       "    </tr>\n",
       "    <tr>\n",
       "      <th>2</th>\n",
       "      <td>Spiders see this and this is why they made the...</td>\n",
       "      <td>UCutp6oeKAxsO6fXp1vyzvIQ</td>\n",
       "    </tr>\n",
       "    <tr>\n",
       "      <th>3</th>\n",
       "      <td>you looks pretty 😍</td>\n",
       "      <td>UC9J99riIPd6ja-XDFSwrY-Q</td>\n",
       "    </tr>\n",
       "    <tr>\n",
       "      <th>4</th>\n",
       "      <td>I can hear the hairs standing up on my wife’s ...</td>\n",
       "      <td>UC8WEPXkCSh87h6kBcFT-o1g</td>\n",
       "    </tr>\n",
       "  </tbody>\n",
       "</table>\n",
       "</div>"
      ],
      "text/plain": [
       "                                    Comment (Actual) Comment Author Channel ID\n",
       "0  zombie spider!! bomb the damn lab before it's ...  UC-F6GFyxAqGhN3_MEJLksxg\n",
       "1  This is way less cool than it seems, spiders a...  UCZKnVEtNze-fFxCvsRnaIuA\n",
       "2  Spiders see this and this is why they made the...  UCutp6oeKAxsO6fXp1vyzvIQ\n",
       "3                                 you looks pretty 😍  UC9J99riIPd6ja-XDFSwrY-Q\n",
       "4  I can hear the hairs standing up on my wife’s ...  UC8WEPXkCSh87h6kBcFT-o1g"
      ]
     },
     "execution_count": 168,
     "metadata": {},
     "output_type": "execute_result"
    }
   ],
   "source": [
    "df.head()"
   ]
  },
  {
   "cell_type": "code",
   "execution_count": 169,
   "metadata": {
    "id": "aDqQ9EuB6MwE"
   },
   "outputs": [],
   "source": [
    "def expand_contractions(text):\n",
    "  try:\n",
    "    return contractions.fix(text)\n",
    "  except:\n",
    "    return text"
   ]
  },
  {
   "cell_type": "code",
   "execution_count": 170,
   "metadata": {
    "id": "Oyp0s-9NwJ82"
   },
   "outputs": [],
   "source": [
    "def pre_process(text):\n",
    "    # Replace links with http\n",
    "    text = re.sub('http://\\S+|https://\\S+', 'http', text)\n",
    "    text = re.sub('http[s]?://\\S+', 'http', text)\n",
    "    text = re.sub(r\"http\\S+\", \"http\", text)\n",
    "\n",
    "    # Remove non-English text\n",
    "    text = re.sub(r'[^\\x00-\\x7F_]+', '', text)\n",
    "\n",
    "    # Remove HTML syntaxes\n",
    "    # html_tag=re.compile(r'<.*?>')\n",
    "    # text=html_tag.sub(r'',text)\n",
    "\n",
    "    text = re.sub('&amp', 'and', text)\n",
    "    text = re.sub('&lt', '<', text)\n",
    "    text = re.sub('&gt', '>', text)\n",
    "\n",
    "    # Remove new line characters\n",
    "    text = re.sub('[\\r\\n]+', ' ', text)\n",
    "\n",
    "    # Remove punctuation\n",
    "    punct_tag=re.compile(r'[^\\w\\s]')\n",
    "    text=punct_tag.sub(r'',text)\n",
    "\n",
    "    #Removes Emojis\n",
    "    emoji_clean= re.compile(\"[\"\n",
    "                           u\"\\U0001F600-\\U0001F64F\"  # emoticons\n",
    "                           u\"\\U0001F300-\\U0001F5FF\"  # symbols & pictographs\n",
    "                           u\"\\U0001F680-\\U0001F6FF\"  # transport & map symbols\n",
    "                           u\"\\U0001F1E0-\\U0001F1FF\"  # flags (iOS)\n",
    "                           u\"\\U00002702-\\U000027B0\"\n",
    "                           u\"\\U000024C2-\\U0001F251\"\n",
    "                           \"]+\", flags=re.UNICODE)\n",
    "    text = emoji_clean.sub(r'',text)\n",
    "    url_clean= re.compile(r\"https://\\S+|www\\.\\S+\")\n",
    "    text=url_clean.sub(r'',text)\n",
    "\n",
    "    # Remove multiple space characters\n",
    "    text = re.sub('\\s+',' ', text)\n",
    "    \n",
    "    # Convert to lowercase\n",
    "    text = text.lower()\n",
    "\n",
    "    # Remove numeric values.\n",
    "    text = re.sub(r'\\d+', '', text)\n",
    "    \n",
    "    return text\n",
    "    "
   ]
  },
  {
   "cell_type": "code",
   "execution_count": 171,
   "metadata": {
    "id": "LsYQxZAB3Mhj"
   },
   "outputs": [],
   "source": [
    "df['Processed Comment'] = df['Comment (Actual)'].apply(expand_contractions)\n",
    "df['Processed Comment'] = df['Processed Comment'].apply(pre_process)"
   ]
  },
  {
   "cell_type": "code",
   "execution_count": 172,
   "metadata": {
    "colab": {
     "base_uri": "https://localhost:8080/",
     "height": 363
    },
    "id": "gcvNmZK85v-a",
    "outputId": "8a318591-cac9-480c-f627-74a419f991a3"
   },
   "outputs": [
    {
     "data": {
      "text/html": [
       "<div>\n",
       "<style scoped>\n",
       "    .dataframe tbody tr th:only-of-type {\n",
       "        vertical-align: middle;\n",
       "    }\n",
       "\n",
       "    .dataframe tbody tr th {\n",
       "        vertical-align: top;\n",
       "    }\n",
       "\n",
       "    .dataframe thead th {\n",
       "        text-align: right;\n",
       "    }\n",
       "</style>\n",
       "<table border=\"1\" class=\"dataframe\">\n",
       "  <thead>\n",
       "    <tr style=\"text-align: right;\">\n",
       "      <th></th>\n",
       "      <th>Comment (Actual)</th>\n",
       "      <th>Comment Author Channel ID</th>\n",
       "      <th>Processed Comment</th>\n",
       "    </tr>\n",
       "  </thead>\n",
       "  <tbody>\n",
       "    <tr>\n",
       "      <th>91473</th>\n",
       "      <td>It's one of the best things going to happen in...</td>\n",
       "      <td>UC58bLNydVTDPfx75zYuZMoA</td>\n",
       "      <td>it is one of the best things going to happen i...</td>\n",
       "    </tr>\n",
       "    <tr>\n",
       "      <th>48453</th>\n",
       "      <td>I thought Joseph and Sam sounded familiar</td>\n",
       "      <td>UCgDn8rP6shWOKcL5MPXlcxQ</td>\n",
       "      <td>i thought joseph and sam sounded familiar</td>\n",
       "    </tr>\n",
       "    <tr>\n",
       "      <th>111347</th>\n",
       "      <td>Thanks!</td>\n",
       "      <td>UCmHUIHrs96dTCc6k_P_C5lQ</td>\n",
       "      <td>thanks</td>\n",
       "    </tr>\n",
       "    <tr>\n",
       "      <th>464060</th>\n",
       "      <td>This was explained to me by a sommelier.  You ...</td>\n",
       "      <td>UCIZRvUG8BJ-QMMnheJosoAQ</td>\n",
       "      <td>this was explained to me by a sommelier you ca...</td>\n",
       "    </tr>\n",
       "    <tr>\n",
       "      <th>40765</th>\n",
       "      <td>The fact they didn’t pick crepês for the Frenc...</td>\n",
       "      <td>UCiono-zS0cIbhtQvOKJOAqw</td>\n",
       "      <td>the fact they did not pick creps for the frenc...</td>\n",
       "    </tr>\n",
       "    <tr>\n",
       "      <th>271997</th>\n",
       "      <td>I want to see all of your books!</td>\n",
       "      <td>UCQyP-cvI1F1kjIms1Un8DwA</td>\n",
       "      <td>i want to see all of your books</td>\n",
       "    </tr>\n",
       "    <tr>\n",
       "      <th>748364</th>\n",
       "      <td>i could watch that for hours!</td>\n",
       "      <td>UCuqp4iGWRUHLrS4gysPTlDg</td>\n",
       "      <td>i could watch that for hours</td>\n",
       "    </tr>\n",
       "    <tr>\n",
       "      <th>821793</th>\n",
       "      <td>She's cute. I must court her.</td>\n",
       "      <td>UCutUIKyrbO6AZcBrckqeIFw</td>\n",
       "      <td>she is cute i must court her</td>\n",
       "    </tr>\n",
       "    <tr>\n",
       "      <th>112030</th>\n",
       "      <td>I am so sorry for this struggle. ❤</td>\n",
       "      <td>UC9joWuVe3RZtALu2CFng2hQ</td>\n",
       "      <td>i am so sorry for this struggle</td>\n",
       "    </tr>\n",
       "    <tr>\n",
       "      <th>91425</th>\n",
       "      <td>Because current indian govt modi govt want to ...</td>\n",
       "      <td>UC08RKnPY6dmjQ5ZnUEZS1Aw</td>\n",
       "      <td>because current indian govt modi govt want to ...</td>\n",
       "    </tr>\n",
       "  </tbody>\n",
       "</table>\n",
       "</div>"
      ],
      "text/plain": [
       "                                         Comment (Actual)  \\\n",
       "91473   It's one of the best things going to happen in...   \n",
       "48453           I thought Joseph and Sam sounded familiar   \n",
       "111347                                            Thanks!   \n",
       "464060  This was explained to me by a sommelier.  You ...   \n",
       "40765   The fact they didn’t pick crepês for the Frenc...   \n",
       "271997                   I want to see all of your books!   \n",
       "748364                      i could watch that for hours!   \n",
       "821793                      She's cute. I must court her.   \n",
       "112030                 I am so sorry for this struggle. ❤   \n",
       "91425   Because current indian govt modi govt want to ...   \n",
       "\n",
       "       Comment Author Channel ID  \\\n",
       "91473   UC58bLNydVTDPfx75zYuZMoA   \n",
       "48453   UCgDn8rP6shWOKcL5MPXlcxQ   \n",
       "111347  UCmHUIHrs96dTCc6k_P_C5lQ   \n",
       "464060  UCIZRvUG8BJ-QMMnheJosoAQ   \n",
       "40765   UCiono-zS0cIbhtQvOKJOAqw   \n",
       "271997  UCQyP-cvI1F1kjIms1Un8DwA   \n",
       "748364  UCuqp4iGWRUHLrS4gysPTlDg   \n",
       "821793  UCutUIKyrbO6AZcBrckqeIFw   \n",
       "112030  UC9joWuVe3RZtALu2CFng2hQ   \n",
       "91425   UC08RKnPY6dmjQ5ZnUEZS1Aw   \n",
       "\n",
       "                                        Processed Comment  \n",
       "91473   it is one of the best things going to happen i...  \n",
       "48453           i thought joseph and sam sounded familiar  \n",
       "111347                                             thanks  \n",
       "464060  this was explained to me by a sommelier you ca...  \n",
       "40765   the fact they did not pick creps for the frenc...  \n",
       "271997                    i want to see all of your books  \n",
       "748364                       i could watch that for hours  \n",
       "821793                       she is cute i must court her  \n",
       "112030                   i am so sorry for this struggle   \n",
       "91425   because current indian govt modi govt want to ...  "
      ]
     },
     "execution_count": 172,
     "metadata": {},
     "output_type": "execute_result"
    }
   ],
   "source": [
    "df.sample(10)"
   ]
  },
  {
   "cell_type": "markdown",
   "metadata": {
    "id": "L7m3SUH38bnm"
   },
   "source": [
    "# Feature Extraction"
   ]
  },
  {
   "cell_type": "markdown",
   "metadata": {
    "id": "MRHEbDSj9KNP"
   },
   "source": [
    "### Tokenization"
   ]
  },
  {
   "cell_type": "code",
   "execution_count": 173,
   "metadata": {
    "id": "H1Lr-2A89JfZ"
   },
   "outputs": [],
   "source": [
    "df['Tokenized Comment'] = df['Processed Comment'].apply(nltk.word_tokenize)"
   ]
  },
  {
   "cell_type": "code",
   "execution_count": 174,
   "metadata": {
    "colab": {
     "base_uri": "https://localhost:8080/",
     "height": 545
    },
    "id": "Essw2FCP9u0X",
    "outputId": "e97c3924-c187-4b95-848a-d75d8908396a"
   },
   "outputs": [
    {
     "data": {
      "text/html": [
       "<div>\n",
       "<style scoped>\n",
       "    .dataframe tbody tr th:only-of-type {\n",
       "        vertical-align: middle;\n",
       "    }\n",
       "\n",
       "    .dataframe tbody tr th {\n",
       "        vertical-align: top;\n",
       "    }\n",
       "\n",
       "    .dataframe thead th {\n",
       "        text-align: right;\n",
       "    }\n",
       "</style>\n",
       "<table border=\"1\" class=\"dataframe\">\n",
       "  <thead>\n",
       "    <tr style=\"text-align: right;\">\n",
       "      <th></th>\n",
       "      <th>Comment (Actual)</th>\n",
       "      <th>Comment Author Channel ID</th>\n",
       "      <th>Processed Comment</th>\n",
       "      <th>Tokenized Comment</th>\n",
       "    </tr>\n",
       "  </thead>\n",
       "  <tbody>\n",
       "    <tr>\n",
       "      <th>467004</th>\n",
       "      <td>For me there isn't anything new. these are est...</td>\n",
       "      <td>UCEyagIfEuYWngDe8drj0Bmg</td>\n",
       "      <td>for me there is not anything new these are est...</td>\n",
       "      <td>[for, me, there, is, not, anything, new, these...</td>\n",
       "    </tr>\n",
       "    <tr>\n",
       "      <th>223914</th>\n",
       "      <td>this is the closest thing to a real life SCP</td>\n",
       "      <td>UCjZe9GtLDwYpUKBaeuZU6yQ</td>\n",
       "      <td>this is the closest thing to a real life scp</td>\n",
       "      <td>[this, is, the, closest, thing, to, a, real, l...</td>\n",
       "    </tr>\n",
       "    <tr>\n",
       "      <th>746070</th>\n",
       "      <td>Congrats! you are awesome!</td>\n",
       "      <td>UCTsOv_LpXqSFau706Qdcb1w</td>\n",
       "      <td>congrats you are awesome</td>\n",
       "      <td>[congrats, you, are, awesome]</td>\n",
       "    </tr>\n",
       "    <tr>\n",
       "      <th>197156</th>\n",
       "      <td>Are you trying to polarize your audience?</td>\n",
       "      <td>UCexbu2MieJaSG_rqnCaa5cQ</td>\n",
       "      <td>are you trying to polarize your audience</td>\n",
       "      <td>[are, you, trying, to, polarize, your, audience]</td>\n",
       "    </tr>\n",
       "    <tr>\n",
       "      <th>28202</th>\n",
       "      <td>What’s happening to Vox? Seems everyone is lea...</td>\n",
       "      <td>UCwehxQYSGmJ00MIwgs1k8pA</td>\n",
       "      <td>what is happening to vox seems everyone is lea...</td>\n",
       "      <td>[what, is, happening, to, vox, seems, everyone...</td>\n",
       "    </tr>\n",
       "    <tr>\n",
       "      <th>223034</th>\n",
       "      <td>Sounds like a studio gibli movie</td>\n",
       "      <td>UCRXV4FZZ5w8G47HzmwNypzw</td>\n",
       "      <td>sounds like a studio gibli movie</td>\n",
       "      <td>[sounds, like, a, studio, gibli, movie]</td>\n",
       "    </tr>\n",
       "    <tr>\n",
       "      <th>55503</th>\n",
       "      <td>Well isn’t it more than just photo sattelites</td>\n",
       "      <td>UC9GQtYRmywsv7NQ0ohhSlCQ</td>\n",
       "      <td>well is not it more than just photo sattelites</td>\n",
       "      <td>[well, is, not, it, more, than, just, photo, s...</td>\n",
       "    </tr>\n",
       "    <tr>\n",
       "      <th>171914</th>\n",
       "      <td>My dad once told me (when I was around 8 or 9)...</td>\n",
       "      <td>UCdmoIx9HEEuayXBX8VtiROQ</td>\n",
       "      <td>my dad once told me when i was around  or  tha...</td>\n",
       "      <td>[my, dad, once, told, me, when, i, was, around...</td>\n",
       "    </tr>\n",
       "    <tr>\n",
       "      <th>5828</th>\n",
       "      <td>The waffle house has found its new host.</td>\n",
       "      <td>UCiJfxAIWg4iR4fx9fPOUwNQ</td>\n",
       "      <td>the waffle house has found its new host</td>\n",
       "      <td>[the, waffle, house, has, found, its, new, host]</td>\n",
       "    </tr>\n",
       "    <tr>\n",
       "      <th>460522</th>\n",
       "      <td>Math and Physics is somehow our sixth sense. B...</td>\n",
       "      <td>UCvXfE0IACVmMTKIHfMVunVA</td>\n",
       "      <td>math and physics is somehow our sixth sense be...</td>\n",
       "      <td>[math, and, physics, is, somehow, our, sixth, ...</td>\n",
       "    </tr>\n",
       "  </tbody>\n",
       "</table>\n",
       "</div>"
      ],
      "text/plain": [
       "                                         Comment (Actual)  \\\n",
       "467004  For me there isn't anything new. these are est...   \n",
       "223914       this is the closest thing to a real life SCP   \n",
       "746070                         Congrats! you are awesome!   \n",
       "197156          Are you trying to polarize your audience?   \n",
       "28202   What’s happening to Vox? Seems everyone is lea...   \n",
       "223034                   Sounds like a studio gibli movie   \n",
       "55503       Well isn’t it more than just photo sattelites   \n",
       "171914  My dad once told me (when I was around 8 or 9)...   \n",
       "5828             The waffle house has found its new host.   \n",
       "460522  Math and Physics is somehow our sixth sense. B...   \n",
       "\n",
       "       Comment Author Channel ID  \\\n",
       "467004  UCEyagIfEuYWngDe8drj0Bmg   \n",
       "223914  UCjZe9GtLDwYpUKBaeuZU6yQ   \n",
       "746070  UCTsOv_LpXqSFau706Qdcb1w   \n",
       "197156  UCexbu2MieJaSG_rqnCaa5cQ   \n",
       "28202   UCwehxQYSGmJ00MIwgs1k8pA   \n",
       "223034  UCRXV4FZZ5w8G47HzmwNypzw   \n",
       "55503   UC9GQtYRmywsv7NQ0ohhSlCQ   \n",
       "171914  UCdmoIx9HEEuayXBX8VtiROQ   \n",
       "5828    UCiJfxAIWg4iR4fx9fPOUwNQ   \n",
       "460522  UCvXfE0IACVmMTKIHfMVunVA   \n",
       "\n",
       "                                        Processed Comment  \\\n",
       "467004  for me there is not anything new these are est...   \n",
       "223914       this is the closest thing to a real life scp   \n",
       "746070                           congrats you are awesome   \n",
       "197156           are you trying to polarize your audience   \n",
       "28202   what is happening to vox seems everyone is lea...   \n",
       "223034                   sounds like a studio gibli movie   \n",
       "55503      well is not it more than just photo sattelites   \n",
       "171914  my dad once told me when i was around  or  tha...   \n",
       "5828              the waffle house has found its new host   \n",
       "460522  math and physics is somehow our sixth sense be...   \n",
       "\n",
       "                                        Tokenized Comment  \n",
       "467004  [for, me, there, is, not, anything, new, these...  \n",
       "223914  [this, is, the, closest, thing, to, a, real, l...  \n",
       "746070                      [congrats, you, are, awesome]  \n",
       "197156   [are, you, trying, to, polarize, your, audience]  \n",
       "28202   [what, is, happening, to, vox, seems, everyone...  \n",
       "223034            [sounds, like, a, studio, gibli, movie]  \n",
       "55503   [well, is, not, it, more, than, just, photo, s...  \n",
       "171914  [my, dad, once, told, me, when, i, was, around...  \n",
       "5828     [the, waffle, house, has, found, its, new, host]  \n",
       "460522  [math, and, physics, is, somehow, our, sixth, ...  "
      ]
     },
     "execution_count": 174,
     "metadata": {},
     "output_type": "execute_result"
    }
   ],
   "source": [
    "df.sample(10)"
   ]
  },
  {
   "cell_type": "markdown",
   "metadata": {
    "id": "U5qhwyeV_VhY"
   },
   "source": [
    "### Stopwords removal"
   ]
  },
  {
   "cell_type": "code",
   "execution_count": 175,
   "metadata": {
    "id": "_Rl4bDJh-IbZ"
   },
   "outputs": [],
   "source": [
    "stop_words = set(stopwords.words('english'))\n",
    "df['Tokenized Comment']  = df['Tokenized Comment'] .apply(lambda x: [item for item in x if item not in stop_words])"
   ]
  },
  {
   "cell_type": "code",
   "execution_count": 176,
   "metadata": {
    "colab": {
     "base_uri": "https://localhost:8080/",
     "height": 285
    },
    "id": "1AOdpFNK-aqC",
    "outputId": "00853506-6a77-4fbf-829b-141bd9bc03f4"
   },
   "outputs": [
    {
     "data": {
      "text/html": [
       "<div>\n",
       "<style scoped>\n",
       "    .dataframe tbody tr th:only-of-type {\n",
       "        vertical-align: middle;\n",
       "    }\n",
       "\n",
       "    .dataframe tbody tr th {\n",
       "        vertical-align: top;\n",
       "    }\n",
       "\n",
       "    .dataframe thead th {\n",
       "        text-align: right;\n",
       "    }\n",
       "</style>\n",
       "<table border=\"1\" class=\"dataframe\">\n",
       "  <thead>\n",
       "    <tr style=\"text-align: right;\">\n",
       "      <th></th>\n",
       "      <th>Comment (Actual)</th>\n",
       "      <th>Comment Author Channel ID</th>\n",
       "      <th>Processed Comment</th>\n",
       "      <th>Tokenized Comment</th>\n",
       "    </tr>\n",
       "  </thead>\n",
       "  <tbody>\n",
       "    <tr>\n",
       "      <th>171016</th>\n",
       "      <td>Time is a tool not a place we may belong to a ...</td>\n",
       "      <td>UCFTI74wwe0L9wcPXQv5S7Bw</td>\n",
       "      <td>time is a tool not a place we may belong to a ...</td>\n",
       "      <td>[time, tool, place, may, belong, cluster, gala...</td>\n",
       "    </tr>\n",
       "    <tr>\n",
       "      <th>101242</th>\n",
       "      <td>Guess Saudi Arabia has seen my Cities Skyline ...</td>\n",
       "      <td>UC1uGsJpHooDRs7RglphzuxQ</td>\n",
       "      <td>guess saudi arabia has seen my cities skyline ...</td>\n",
       "      <td>[guess, saudi, arabia, seen, cities, skyline, ...</td>\n",
       "    </tr>\n",
       "    <tr>\n",
       "      <th>95511</th>\n",
       "      <td>According harbor authorities of Rotterdam ther...</td>\n",
       "      <td>UCDlfAX4XDowq6LgJ62zKmGA</td>\n",
       "      <td>according harbor authorities of rotterdam ther...</td>\n",
       "      <td>[according, harbor, authorities, rotterdam, al...</td>\n",
       "    </tr>\n",
       "    <tr>\n",
       "      <th>234949</th>\n",
       "      <td>Hi Physics Girl. I have learned more from you....</td>\n",
       "      <td>UCzwrfy-QhIn4UBD0MbB5vsA</td>\n",
       "      <td>hi physics girl i have learned more from you w...</td>\n",
       "      <td>[hi, physics, girl, learned, well, take, physi...</td>\n",
       "    </tr>\n",
       "    <tr>\n",
       "      <th>100273</th>\n",
       "      <td>Intro plays Me: Ok ive heard enough..</td>\n",
       "      <td>UCSgjHlF1wvh2WmZZj_8mR-A</td>\n",
       "      <td>intro plays me ok i have heard enough</td>\n",
       "      <td>[intro, plays, ok, heard, enough]</td>\n",
       "    </tr>\n",
       "  </tbody>\n",
       "</table>\n",
       "</div>"
      ],
      "text/plain": [
       "                                         Comment (Actual)  \\\n",
       "171016  Time is a tool not a place we may belong to a ...   \n",
       "101242  Guess Saudi Arabia has seen my Cities Skyline ...   \n",
       "95511   According harbor authorities of Rotterdam ther...   \n",
       "234949  Hi Physics Girl. I have learned more from you....   \n",
       "100273              Intro plays Me: Ok ive heard enough..   \n",
       "\n",
       "       Comment Author Channel ID  \\\n",
       "171016  UCFTI74wwe0L9wcPXQv5S7Bw   \n",
       "101242  UC1uGsJpHooDRs7RglphzuxQ   \n",
       "95511   UCDlfAX4XDowq6LgJ62zKmGA   \n",
       "234949  UCzwrfy-QhIn4UBD0MbB5vsA   \n",
       "100273  UCSgjHlF1wvh2WmZZj_8mR-A   \n",
       "\n",
       "                                        Processed Comment  \\\n",
       "171016  time is a tool not a place we may belong to a ...   \n",
       "101242  guess saudi arabia has seen my cities skyline ...   \n",
       "95511   according harbor authorities of rotterdam ther...   \n",
       "234949  hi physics girl i have learned more from you w...   \n",
       "100273              intro plays me ok i have heard enough   \n",
       "\n",
       "                                        Tokenized Comment  \n",
       "171016  [time, tool, place, may, belong, cluster, gala...  \n",
       "101242  [guess, saudi, arabia, seen, cities, skyline, ...  \n",
       "95511   [according, harbor, authorities, rotterdam, al...  \n",
       "234949  [hi, physics, girl, learned, well, take, physi...  \n",
       "100273                  [intro, plays, ok, heard, enough]  "
      ]
     },
     "execution_count": 176,
     "metadata": {},
     "output_type": "execute_result"
    }
   ],
   "source": [
    "df.sample(5)"
   ]
  },
  {
   "cell_type": "markdown",
   "metadata": {
    "id": "qhtZNXtg_cIW"
   },
   "source": [
    "### Lemmatization"
   ]
  },
  {
   "cell_type": "code",
   "execution_count": 177,
   "metadata": {
    "id": "2xo3eT3j8ZJs"
   },
   "outputs": [],
   "source": [
    "def lemmatization(dataset):\n",
    "    lemma = nltk.WordNetLemmatizer()\n",
    "    comments_lemma = []\n",
    "    for comment in dataset:\n",
    "        comment_lemma = [lemma.lemmatize(w) for w in comment]\n",
    "        comments_lemma.append(comment_lemma)\n",
    "    return comments_lemma"
   ]
  },
  {
   "cell_type": "code",
   "execution_count": 178,
   "metadata": {
    "id": "5hYRnh_r_iub"
   },
   "outputs": [],
   "source": [
    "df['Lemmatized Comment'] = lemmatization(df['Tokenized Comment'])"
   ]
  },
  {
   "cell_type": "code",
   "execution_count": 179,
   "metadata": {
    "id": "FwFiXy45CNUN"
   },
   "outputs": [],
   "source": [
    "df =df.drop(columns=['Comment Author Channel ID','Processed Comment'\t,'Tokenized Comment'] )"
   ]
  },
  {
   "cell_type": "code",
   "execution_count": 180,
   "metadata": {
    "id": "sH58asBVDA-0"
   },
   "outputs": [],
   "source": [
    "df['Lemmatized Comment'] = df['Lemmatized Comment'].apply(lambda x: ' '.join(x))"
   ]
  },
  {
   "cell_type": "code",
   "execution_count": 181,
   "metadata": {
    "colab": {
     "base_uri": "https://localhost:8080/",
     "height": 206
    },
    "id": "v6vYElBp_1Cf",
    "outputId": "eb00c81a-9fe5-43ba-9b95-86909cbb6a5e"
   },
   "outputs": [
    {
     "data": {
      "text/html": [
       "<div>\n",
       "<style scoped>\n",
       "    .dataframe tbody tr th:only-of-type {\n",
       "        vertical-align: middle;\n",
       "    }\n",
       "\n",
       "    .dataframe tbody tr th {\n",
       "        vertical-align: top;\n",
       "    }\n",
       "\n",
       "    .dataframe thead th {\n",
       "        text-align: right;\n",
       "    }\n",
       "</style>\n",
       "<table border=\"1\" class=\"dataframe\">\n",
       "  <thead>\n",
       "    <tr style=\"text-align: right;\">\n",
       "      <th></th>\n",
       "      <th>Comment (Actual)</th>\n",
       "      <th>Lemmatized Comment</th>\n",
       "    </tr>\n",
       "  </thead>\n",
       "  <tbody>\n",
       "    <tr>\n",
       "      <th>851619</th>\n",
       "      <td>awwww i used to watchhim 4 science and now he ...</td>\n",
       "      <td>awwww used watchhim science old</td>\n",
       "    </tr>\n",
       "    <tr>\n",
       "      <th>834172</th>\n",
       "      <td>and... I was almost ready to unsubscribe.</td>\n",
       "      <td>almost ready unsubscribe</td>\n",
       "    </tr>\n",
       "    <tr>\n",
       "      <th>471812</th>\n",
       "      <td>crap, I have a question that would have been g...</td>\n",
       "      <td>crap question would good wish would known ahea...</td>\n",
       "    </tr>\n",
       "    <tr>\n",
       "      <th>45287</th>\n",
       "      <td>ive been watching the jet lag backlog thinking...</td>\n",
       "      <td>watching jet lag backlog thinking man would mu...</td>\n",
       "    </tr>\n",
       "    <tr>\n",
       "      <th>5977</th>\n",
       "      <td>this chicks extremely annoying</td>\n",
       "      <td>chick extremely annoying</td>\n",
       "    </tr>\n",
       "  </tbody>\n",
       "</table>\n",
       "</div>"
      ],
      "text/plain": [
       "                                         Comment (Actual)  \\\n",
       "851619  awwww i used to watchhim 4 science and now he ...   \n",
       "834172          and... I was almost ready to unsubscribe.   \n",
       "471812  crap, I have a question that would have been g...   \n",
       "45287   ive been watching the jet lag backlog thinking...   \n",
       "5977                       this chicks extremely annoying   \n",
       "\n",
       "                                       Lemmatized Comment  \n",
       "851619                    awwww used watchhim science old  \n",
       "834172                           almost ready unsubscribe  \n",
       "471812  crap question would good wish would known ahea...  \n",
       "45287   watching jet lag backlog thinking man would mu...  \n",
       "5977                             chick extremely annoying  "
      ]
     },
     "execution_count": 181,
     "metadata": {},
     "output_type": "execute_result"
    }
   ],
   "source": [
    "df.sample(5)"
   ]
  },
  {
   "cell_type": "markdown",
   "metadata": {
    "id": "ELhK2ENeDmq6"
   },
   "source": [
    "### Plotting most frequent 20 words"
   ]
  },
  {
   "cell_type": "code",
   "execution_count": 182,
   "metadata": {
    "id": "6tEMMpgdIveV"
   },
   "outputs": [],
   "source": [
    "# Define a function to extract the top bigrams from a text column\n",
    "def get_top_n_bigram(corpus, n,k):\n",
    "\n",
    "    vec = CountVectorizer(ngram_range=(k, k), stop_words='english').fit(corpus)\n",
    "    bag_of_words = vec.transform(corpus)\n",
    "    sum_words = bag_of_words.sum(axis=0) \n",
    "    words_freq = [(word, sum_words[0, idx]) for word, idx in vec.vocabulary_.items()]\n",
    "    words_freq = sorted(words_freq, key = lambda x: x[1], reverse=True)\n",
    "    return words_freq[:n]"
   ]
  },
  {
   "cell_type": "code",
   "execution_count": 229,
   "metadata": {
    "id": "Q23u0-RMc8cL"
   },
   "outputs": [
    {
     "data": {
      "image/png": "[encoded data removed]",
      "text/plain": [
       "<Figure size 720x360 with 1 Axes>"
      ]
     },
     "metadata": {
      "needs_background": "light"
     },
     "output_type": "display_data"
    }
   ],
   "source": [
    "# # Get the top 20 words from the `Processed Comment` column\n",
    "common_words = get_top_n_bigram(df['Lemmatized Comment'], 20,1)\n",
    "\n",
    "# Convert the list of tuples to a Pandas dataframe\n",
    "df2 = pd.DataFrame(common_words, columns = ['Comment words' , 'count'])\n",
    "\n",
    "# Create a bar plot of the top bigrams using seaborn\n",
    "plt.figure(figsize=(10,5))\n",
    "sns.barplot(x='Comment words', y='count', data=df2.head(20))\n",
    "plt.xticks(rotation=45, ha='right')\n",
    "plt.title('Top 20 words in Processed Comment')\n",
    "plt.show()"
   ]
  },
  {
   "cell_type": "markdown",
   "metadata": {},
   "source": [
    "### Plotting most frequent 20 words Bigrams"
   ]
  },
  {
   "cell_type": "code",
   "execution_count": 231,
   "metadata": {
    "id": "qymqV-34J_WK"
   },
   "outputs": [
    {
     "data": {
      "image/png": "[encoded data removed]",
      "text/plain": [
       "<Figure size 720x360 with 1 Axes>"
      ]
     },
     "metadata": {
      "needs_background": "light"
     },
     "output_type": "display_data"
    }
   ],
   "source": [
    "# Get the top 20 bigrams from the `Processed Comment` column\n",
    "common_words = get_top_n_bigram(df['Lemmatized Comment'], 20,2)\n",
    "\n",
    "# Convert the list of tuples to a Pandas dataframe\n",
    "df2 = pd.DataFrame(common_words, columns = ['Comment words' , 'count'])\n",
    "\n",
    "# Create a bar plot of the top bigrams using seaborn\n",
    "plt.figure(figsize=(10,5))\n",
    "sns.barplot(x='Comment words', y='count', data=df2.head(20))\n",
    "plt.xticks(rotation=45, ha='right')\n",
    "plt.title('Top 20 bigrams in Processed Comment')\n",
    "plt.show()"
   ]
  },
  {
   "cell_type": "code",
   "execution_count": 233,
   "metadata": {
    "id": "d-KCL1JVPRYe"
   },
   "outputs": [
    {
     "data": {
      "image/png": "[encoded data removed]",
      "text/plain": [
       "<Figure size 720x720 with 1 Axes>"
      ]
     },
     "metadata": {
      "needs_background": "light"
     },
     "output_type": "display_data"
    }
   ],
   "source": [
    "# Generate a word cloud image\n",
    "mask = np.array(Image.open(\"/Users/anshu/Downloads/youtube.jpg\"))\n",
    "stopwords = set(STOPWORDS)\n",
    "\n",
    "comment_text = ' '.join(df['Lemmatized Comment'].values)\n",
    "\n",
    "wordcloud_youtube = WordCloud(height=1000,\n",
    "                              width=1000,\n",
    "                              background_color=\"white\",\n",
    "                              mode=\"RGBA\",\n",
    "                              stopwords=stopwords,\n",
    "                              mask=mask).generate(comment_text)\n",
    "\n",
    "# Create coloring from the image\n",
    "image_colors = ImageColorGenerator(mask)\n",
    "plt.figure(figsize=[10,10])\n",
    "plt.axis('off')\n",
    "plt.tight_layout(pad=0)\n",
    "plt.imshow(wordcloud_youtube.recolor(color_func=image_colors), interpolation=\"bilinear\")\n",
    "\n",
    "# Store visualization to file\n",
    "plt.savefig(\"youtube_logo_unigram.png\", format=\"png\")\n",
    "\n",
    "plt.show()\n"
   ]
  },
  {
   "cell_type": "markdown",
   "metadata": {
    "id": "CjVDMTfsdhHz"
   },
   "source": [
    "## TfidfVectorizer"
   ]
  },
  {
   "cell_type": "code",
   "execution_count": 187,
   "metadata": {
    "id": "F7B8MaXqgbQf"
   },
   "outputs": [],
   "source": [
    "Random_df = pd.DataFrame()\n",
    "Random_df = df.sample(5000)"
   ]
  },
  {
   "cell_type": "code",
   "execution_count": 188,
   "metadata": {
    "colab": {
     "base_uri": "https://localhost:8080/",
     "height": 206
    },
    "id": "iz8R2cvJgyNO",
    "outputId": "2e8edb89-34b5-463e-f94b-1060baaa7371"
   },
   "outputs": [
    {
     "data": {
      "text/html": [
       "<div>\n",
       "<style scoped>\n",
       "    .dataframe tbody tr th:only-of-type {\n",
       "        vertical-align: middle;\n",
       "    }\n",
       "\n",
       "    .dataframe tbody tr th {\n",
       "        vertical-align: top;\n",
       "    }\n",
       "\n",
       "    .dataframe thead th {\n",
       "        text-align: right;\n",
       "    }\n",
       "</style>\n",
       "<table border=\"1\" class=\"dataframe\">\n",
       "  <thead>\n",
       "    <tr style=\"text-align: right;\">\n",
       "      <th></th>\n",
       "      <th>Comment (Actual)</th>\n",
       "      <th>Lemmatized Comment</th>\n",
       "    </tr>\n",
       "  </thead>\n",
       "  <tbody>\n",
       "    <tr>\n",
       "      <th>818564</th>\n",
       "      <td>Those arms. Someone’s religiously 💪working out..</td>\n",
       "      <td>arm someone religiously working</td>\n",
       "    </tr>\n",
       "    <tr>\n",
       "      <th>805401</th>\n",
       "      <td>Since having cataract surgery about 10 years a...</td>\n",
       "      <td>since cataract surgery year ago plastic lens r...</td>\n",
       "    </tr>\n",
       "    <tr>\n",
       "      <th>859590</th>\n",
       "      <td>When dark matter split it is held together by ...</td>\n",
       "      <td>dark matter split held together gravitational ...</td>\n",
       "    </tr>\n",
       "    <tr>\n",
       "      <th>90775</th>\n",
       "      <td>Bring everyone together exposes them all at on...</td>\n",
       "      <td>bring everyone together expose outside threat ...</td>\n",
       "    </tr>\n",
       "    <tr>\n",
       "      <th>196647</th>\n",
       "      <td>Wooohooo onlyfand shower scene what a tropper ...</td>\n",
       "      <td>wooohooo onlyfand shower scene tropper planet</td>\n",
       "    </tr>\n",
       "  </tbody>\n",
       "</table>\n",
       "</div>"
      ],
      "text/plain": [
       "                                         Comment (Actual)  \\\n",
       "818564   Those arms. Someone’s religiously 💪working out..   \n",
       "805401  Since having cataract surgery about 10 years a...   \n",
       "859590  When dark matter split it is held together by ...   \n",
       "90775   Bring everyone together exposes them all at on...   \n",
       "196647  Wooohooo onlyfand shower scene what a tropper ...   \n",
       "\n",
       "                                       Lemmatized Comment  \n",
       "818564                    arm someone religiously working  \n",
       "805401  since cataract surgery year ago plastic lens r...  \n",
       "859590  dark matter split held together gravitational ...  \n",
       "90775   bring everyone together expose outside threat ...  \n",
       "196647      wooohooo onlyfand shower scene tropper planet  "
      ]
     },
     "execution_count": 188,
     "metadata": {},
     "output_type": "execute_result"
    }
   ],
   "source": [
    "Random_df.sample(5)"
   ]
  },
  {
   "cell_type": "code",
   "execution_count": 189,
   "metadata": {
    "colab": {
     "base_uri": "https://localhost:8080/"
    },
    "id": "Fm7eExJ_jMnc",
    "outputId": "fc3974aa-d558-4beb-edc4-ea980a4070e9"
   },
   "outputs": [
    {
     "data": {
      "text/plain": [
       "(5000, 2)"
      ]
     },
     "execution_count": 189,
     "metadata": {},
     "output_type": "execute_result"
    }
   ],
   "source": [
    "Random_df.shape"
   ]
  },
  {
   "cell_type": "code",
   "execution_count": 190,
   "metadata": {
    "colab": {
     "base_uri": "https://localhost:8080/"
    },
    "id": "FZDqh-pFjX76",
    "outputId": "087e537c-4053-4d5d-cc94-64b009c6143c"
   },
   "outputs": [
    {
     "data": {
      "text/plain": [
       "<5000x10000 sparse matrix of type '<class 'numpy.float64'>'\n",
       "\twith 49107 stored elements in Compressed Sparse Row format>"
      ]
     },
     "execution_count": 190,
     "metadata": {},
     "output_type": "execute_result"
    }
   ],
   "source": [
    "tfidf_vectorizer = TfidfVectorizer(max_features =10000).fit(df['Lemmatized Comment'] )\n",
    "\n",
    "tfidf = tfidf_vectorizer.transform(Random_df['Lemmatized Comment'])\n",
    "tfidf"
   ]
  },
  {
   "cell_type": "code",
   "execution_count": 192,
   "metadata": {
    "colab": {
     "base_uri": "https://localhost:8080/"
    },
    "id": "gha7hhkAdg75",
    "outputId": "29715360-cb6f-460a-bce5-fde86cfaf8cf"
   },
   "outputs": [
    {
     "data": {
      "text/plain": [
       "177938    big bang happened exactly center universe wait...\n",
       "53609              watched three time realized perfect loop\n",
       "108890    clarified water sent socal headed los angeles ...\n",
       "122219                                 madam awesome friend\n",
       "238127    cow make square cow simplicity lol strange act...\n",
       "Name: Lemmatized Comment, dtype: object"
      ]
     },
     "execution_count": 192,
     "metadata": {},
     "output_type": "execute_result"
    }
   ],
   "source": [
    "Random_df['Lemmatized Comment'].head()"
   ]
  },
  {
   "cell_type": "code",
   "execution_count": 194,
   "metadata": {
    "colab": {
     "base_uri": "https://localhost:8080/"
    },
    "id": "2-ucyDQko6Dp",
    "outputId": "207be41c-fb08-48bd-a76a-cb21b062ac60"
   },
   "outputs": [
    {
     "name": "stdout",
     "output_type": "stream",
     "text": [
      "0.00098\n"
     ]
    }
   ],
   "source": [
    "print(f\"{tfidf.nnz / np.prod(tfidf.shape):.5f}\")"
   ]
  },
  {
   "cell_type": "code",
   "execution_count": 195,
   "metadata": {},
   "outputs": [
    {
     "data": {
      "text/plain": [
       "(5000, 10000)"
      ]
     },
     "execution_count": 195,
     "metadata": {},
     "output_type": "execute_result"
    }
   ],
   "source": [
    "tfidf.shape"
   ]
  },
  {
   "cell_type": "code",
   "execution_count": 196,
   "metadata": {
    "id": "8ibDgcVMRF7i"
   },
   "outputs": [],
   "source": [
    "from sklearn.decomposition import TruncatedSVD"
   ]
  },
  {
   "cell_type": "markdown",
   "metadata": {},
   "source": [
    "## Dimensionality Reduction using TrubcatedSVD"
   ]
  },
  {
   "cell_type": "code",
   "execution_count": 197,
   "metadata": {},
   "outputs": [
    {
     "name": "stdout",
     "output_type": "stream",
     "text": [
      "Shape of tfidf_svd: (5000, 1000)\n"
     ]
    }
   ],
   "source": [
    "svd = TruncatedSVD(n_components=1000)\n",
    "tfidf_svd = svd.fit_transform(tfidf)\n",
    "\n",
    "# Print the shape of the reduced data\n",
    "print('Shape of tfidf_svd:', tfidf_svd.shape)"
   ]
  },
  {
   "cell_type": "markdown",
   "metadata": {},
   "source": [
    "## OUTLIER DETECTION USING MAHANOBIS"
   ]
  },
  {
   "cell_type": "code",
   "execution_count": 198,
   "metadata": {},
   "outputs": [
    {
     "data": {
      "image/png": "[encoded data removed]",
      "text/plain": [
       "<Figure size 432x288 with 1 Axes>"
      ]
     },
     "metadata": {
      "needs_background": "light"
     },
     "output_type": "display_data"
    }
   ],
   "source": [
    "import numpy as np\n",
    "from scipy.spatial.distance import mahalanobis\n",
    "from sklearn.decomposition import TruncatedSVD\n",
    "import matplotlib.pyplot as plt\n",
    "\n",
    "# Compute the inverse covariance matrix of the data\n",
    "cov_inv = np.linalg.inv(np.cov(tfidf_svd, rowvar=False))\n",
    "\n",
    "# Compute the Mahalanobis distances for each data point\n",
    "distances = [mahalanobis(x, np.mean(tfidf_svd, axis=0), cov_inv) for x in tfidf_svd]\n",
    "\n",
    "# Identify the data points that have distances greater than a certain threshold\n",
    "threshold = np.percentile(distances, 95)\n",
    "outliers = np.where(np.array(distances) > threshold)[0]\n",
    "\n",
    "# Reduce the data to 2 dimensions using Truncated SVD\n",
    "svd = TruncatedSVD(n_components=2)\n",
    "tfidf_svd_2d = svd.fit_transform(tfidf_svd)\n",
    "\n",
    "# Plot the data points in 2D and highlight the outliers\n",
    "plt.scatter(tfidf_svd_2d[:, 0], tfidf_svd_2d[:, 1])\n",
    "plt.scatter(tfidf_svd_2d[outliers, 0], tfidf_svd_2d[outliers, 1], color='r', s=50)\n",
    "plt.show()\n"
   ]
  },
  {
   "cell_type": "code",
   "execution_count": 199,
   "metadata": {},
   "outputs": [
    {
     "data": {
      "text/html": [
       "<div>\n",
       "<style scoped>\n",
       "    .dataframe tbody tr th:only-of-type {\n",
       "        vertical-align: middle;\n",
       "    }\n",
       "\n",
       "    .dataframe tbody tr th {\n",
       "        vertical-align: top;\n",
       "    }\n",
       "\n",
       "    .dataframe thead th {\n",
       "        text-align: right;\n",
       "    }\n",
       "</style>\n",
       "<table border=\"1\" class=\"dataframe\">\n",
       "  <thead>\n",
       "    <tr style=\"text-align: right;\">\n",
       "      <th></th>\n",
       "      <th>Comment (Actual)</th>\n",
       "      <th>Lemmatized Comment</th>\n",
       "    </tr>\n",
       "  </thead>\n",
       "  <tbody>\n",
       "    <tr>\n",
       "      <th>197455</th>\n",
       "      <td>Not to pop your optimism bubble but, It is too...</td>\n",
       "      <td>pop optimism bubble late</td>\n",
       "    </tr>\n",
       "    <tr>\n",
       "      <th>157053</th>\n",
       "      <td>he sounds like Tom Hanks</td>\n",
       "      <td>sound like tom hank</td>\n",
       "    </tr>\n",
       "    <tr>\n",
       "      <th>35245</th>\n",
       "      <td>whoever has pennsylvania i always root for the...</td>\n",
       "      <td>whoever pennsylvania always root philly boi</td>\n",
       "    </tr>\n",
       "    <tr>\n",
       "      <th>232953</th>\n",
       "      <td>My gosh u can handle equations</td>\n",
       "      <td>gosh handle equation</td>\n",
       "    </tr>\n",
       "    <tr>\n",
       "      <th>156254</th>\n",
       "      <td>Lol Mojave dessert</td>\n",
       "      <td>lol mojave dessert</td>\n",
       "    </tr>\n",
       "    <tr>\n",
       "      <th>...</th>\n",
       "      <td>...</td>\n",
       "      <td>...</td>\n",
       "    </tr>\n",
       "    <tr>\n",
       "      <th>858903</th>\n",
       "      <td>283rd!</td>\n",
       "      <td>rd</td>\n",
       "    </tr>\n",
       "    <tr>\n",
       "      <th>461420</th>\n",
       "      <td>CERN is obviously Skynet. Dianna is clearly th...</td>\n",
       "      <td>cern obviously skynet dianna clearly newest te...</td>\n",
       "    </tr>\n",
       "    <tr>\n",
       "      <th>466793</th>\n",
       "      <td>95% C02..... And 80ﾟF below 0..... Did you cat...</td>\n",
       "      <td>c f catch</td>\n",
       "    </tr>\n",
       "    <tr>\n",
       "      <th>152729</th>\n",
       "      <td>Scary stuff !!’</td>\n",
       "      <td>scary stuff</td>\n",
       "    </tr>\n",
       "    <tr>\n",
       "      <th>36561</th>\n",
       "      <td>All across Europe more like all across France 😢</td>\n",
       "      <td>across europe like across france</td>\n",
       "    </tr>\n",
       "  </tbody>\n",
       "</table>\n",
       "<p>250 rows × 2 columns</p>\n",
       "</div>"
      ],
      "text/plain": [
       "                                         Comment (Actual)  \\\n",
       "197455  Not to pop your optimism bubble but, It is too...   \n",
       "157053                           he sounds like Tom Hanks   \n",
       "35245   whoever has pennsylvania i always root for the...   \n",
       "232953                     My gosh u can handle equations   \n",
       "156254                                 Lol Mojave dessert   \n",
       "...                                                   ...   \n",
       "858903                                             283rd!   \n",
       "461420  CERN is obviously Skynet. Dianna is clearly th...   \n",
       "466793  95% C02..... And 80ﾟF below 0..... Did you cat...   \n",
       "152729                                    Scary stuff !!’   \n",
       "36561     All across Europe more like all across France 😢   \n",
       "\n",
       "                                       Lemmatized Comment  \n",
       "197455                           pop optimism bubble late  \n",
       "157053                                sound like tom hank  \n",
       "35245         whoever pennsylvania always root philly boi  \n",
       "232953                               gosh handle equation  \n",
       "156254                                 lol mojave dessert  \n",
       "...                                                   ...  \n",
       "858903                                                 rd  \n",
       "461420  cern obviously skynet dianna clearly newest te...  \n",
       "466793                                          c f catch  \n",
       "152729                                        scary stuff  \n",
       "36561                    across europe like across france  \n",
       "\n",
       "[250 rows x 2 columns]"
      ]
     },
     "execution_count": 199,
     "metadata": {},
     "output_type": "execute_result"
    }
   ],
   "source": [
    "# Compute the inverse covariance matrix of the data\n",
    "cov_inv = np.linalg.inv(np.cov(tfidf_svd, rowvar=False))\n",
    "\n",
    "# Compute the Mahalanobis distances for each data point\n",
    "distances = [mahalanobis(x, np.mean(tfidf_svd, axis=0), cov_inv) for x in tfidf_svd]\n",
    "\n",
    "# Identify the data points that have distances greater than a certain threshold\n",
    "threshold = np.percentile(distances, 95)\n",
    "outliers_idx = np.where(np.array(distances) > threshold)[0]\n",
    "\n",
    "# Get the outlier data from the original dataframe\n",
    "outliers_df = Random_df.iloc[outliers_idx]\n",
    "outliers_df"
   ]
  },
  {
   "cell_type": "markdown",
   "metadata": {},
   "source": [
    "### Implementing Kmeans algorithm"
   ]
  },
  {
   "cell_type": "code",
   "execution_count": 201,
   "metadata": {},
   "outputs": [
    {
     "data": {
      "image/png": "[encoded data removed]",
      "text/plain": [
       "<Figure size 432x288 with 1 Axes>"
      ]
     },
     "metadata": {
      "needs_background": "light"
     },
     "output_type": "display_data"
    },
    {
     "name": "stdout",
     "output_type": "stream",
     "text": [
      "The optimal number of clusters is: 2\n"
     ]
    }
   ],
   "source": [
    "from sklearn.cluster import KMeans\n",
    "from sklearn.metrics import silhouette_score\n",
    "num_clusters = range(2, 11)\n",
    "silhouette_scores = []\n",
    "for n in num_clusters:\n",
    "    kmeans = KMeans(n_clusters=n, random_state=42)\n",
    "    cluster_labels = kmeans.fit_predict(tfidf_svd)\n",
    "    silhouette_scores.append(silhouette_score(tfidf_svd, cluster_labels))\n",
    "import matplotlib.pyplot as plt\n",
    "\n",
    "plt.plot(num_clusters, silhouette_scores)\n",
    "plt.xlabel('Number of Clusters')\n",
    "plt.ylabel('Silhouette Score')\n",
    "plt.show()\n",
    "optimal_n_clusters = num_clusters[silhouette_scores.index(max(silhouette_scores))]\n",
    "print(\"The optimal number of clusters is:\", optimal_n_clusters)\n"
   ]
  },
  {
   "cell_type": "code",
   "execution_count": 202,
   "metadata": {
    "id": "Dvh4ZjV7e6cv"
   },
   "outputs": [],
   "source": [
    "import numpy as np\n",
    "import matplotlib.pyplot as plt\n",
    "from sklearn.cluster import KMeans, DBSCAN, AgglomerativeClustering\n",
    "from sklearn.metrics import silhouette_score\n",
    "num_clusters = 2\n",
    "\n",
    "# Initialize the k-means clustering algorithm\n",
    "kmeans = KMeans(n_clusters=num_clusters)\n",
    "\n",
    "cluster_labels = kmeans.fit_predict(tfidf_svd)\n",
    "cluster_assignments = kmeans.labels_\n",
    "# add a new column to the original data frame to store the cluster labels\n",
    "Random_df['cluster_labels'] = cluster_labels"
   ]
  },
  {
   "cell_type": "code",
   "execution_count": 203,
   "metadata": {
    "colab": {
     "base_uri": "https://localhost:8080/"
    },
    "id": "jfdZbL1tfyrn",
    "outputId": "d8505a6e-8e9a-4a70-e13d-4064f23c8133"
   },
   "outputs": [
    {
     "name": "stdout",
     "output_type": "stream",
     "text": [
      "Cluster 0: 4623 documents\n",
      "Cluster 1: 377 documents\n"
     ]
    }
   ],
   "source": [
    "for i in range(num_clusters):\n",
    "    num_documents = np.sum(cluster_assignments == i)\n",
    "    print(f\"Cluster {i}: {num_documents} documents\")"
   ]
  },
  {
   "cell_type": "code",
   "execution_count": 204,
   "metadata": {},
   "outputs": [
    {
     "name": "stdout",
     "output_type": "stream",
     "text": [
      "Number of data points in cluster 0: 4623\n",
      "Number of data points in cluster 1: 377\n"
     ]
    },
    {
     "data": {
      "text/html": [
       "<div>\n",
       "<style scoped>\n",
       "    .dataframe tbody tr th:only-of-type {\n",
       "        vertical-align: middle;\n",
       "    }\n",
       "\n",
       "    .dataframe tbody tr th {\n",
       "        vertical-align: top;\n",
       "    }\n",
       "\n",
       "    .dataframe thead th {\n",
       "        text-align: right;\n",
       "    }\n",
       "</style>\n",
       "<table border=\"1\" class=\"dataframe\">\n",
       "  <thead>\n",
       "    <tr style=\"text-align: right;\">\n",
       "      <th></th>\n",
       "      <th>Comment (Actual)</th>\n",
       "      <th>Lemmatized Comment</th>\n",
       "      <th>cluster_labels</th>\n",
       "    </tr>\n",
       "  </thead>\n",
       "  <tbody>\n",
       "    <tr>\n",
       "      <th>162261</th>\n",
       "      <td>cmon non of this is anything but common knowle...</td>\n",
       "      <td>cmon non anything common knowledge really appr...</td>\n",
       "      <td>0</td>\n",
       "    </tr>\n",
       "    <tr>\n",
       "      <th>835469</th>\n",
       "      <td>I heard a theory that plants don't want green ...</td>\n",
       "      <td>heard theory plant want green light light woul...</td>\n",
       "      <td>0</td>\n",
       "    </tr>\n",
       "    <tr>\n",
       "      <th>236506</th>\n",
       "      <td>I like friction. Hehehe! She was able to illus...</td>\n",
       "      <td>like friction hehehe able illustrate different...</td>\n",
       "      <td>0</td>\n",
       "    </tr>\n",
       "    <tr>\n",
       "      <th>2448</th>\n",
       "      <td>Yeah, never made. The last thing a guy wants t...</td>\n",
       "      <td>yeah never made last thing guy want rest head ...</td>\n",
       "      <td>0</td>\n",
       "    </tr>\n",
       "    <tr>\n",
       "      <th>169887</th>\n",
       "      <td>You are such a geek!  (A high compliment from ...</td>\n",
       "      <td>geek high compliment mechanical engineer thank...</td>\n",
       "      <td>0</td>\n",
       "    </tr>\n",
       "    <tr>\n",
       "      <th>104174</th>\n",
       "      <td>It's only a Dream... it/s Impossible</td>\n",
       "      <td>dream impossible</td>\n",
       "      <td>0</td>\n",
       "    </tr>\n",
       "    <tr>\n",
       "      <th>267879</th>\n",
       "      <td>....I love physics, I worry that man in his pu...</td>\n",
       "      <td>love physic worry man pursuit make decision hu...</td>\n",
       "      <td>0</td>\n",
       "    </tr>\n",
       "    <tr>\n",
       "      <th>594073</th>\n",
       "      <td>I fly over the Hanford site countless times a ...</td>\n",
       "      <td>fly hanford site countless time year always wo...</td>\n",
       "      <td>0</td>\n",
       "    </tr>\n",
       "    <tr>\n",
       "      <th>263057</th>\n",
       "      <td>I won't say anything about your animation at 1...</td>\n",
       "      <td>say anything animation one many zero</td>\n",
       "      <td>0</td>\n",
       "    </tr>\n",
       "    <tr>\n",
       "      <th>469953</th>\n",
       "      <td>Very interesting. What's Raquel's tattoo on he...</td>\n",
       "      <td>interesting raquels tattoo right arrn</td>\n",
       "      <td>0</td>\n",
       "    </tr>\n",
       "    <tr>\n",
       "      <th>226995</th>\n",
       "      <td>\"Quantum Foam\" LOL, such a fantastical term; i...</td>\n",
       "      <td>quantum foam lol fantastical term intriguing</td>\n",
       "      <td>0</td>\n",
       "    </tr>\n",
       "    <tr>\n",
       "      <th>63756</th>\n",
       "      <td>Does anyone care?</td>\n",
       "      <td>anyone care</td>\n",
       "      <td>0</td>\n",
       "    </tr>\n",
       "    <tr>\n",
       "      <th>159195</th>\n",
       "      <td>I'm pretty sure SpongeBob just drove that rock.</td>\n",
       "      <td>pretty sure spongebob drove rock</td>\n",
       "      <td>0</td>\n",
       "    </tr>\n",
       "    <tr>\n",
       "      <th>469033</th>\n",
       "      <td>For what I remember, the moon also makes the e...</td>\n",
       "      <td>remember moon also make earth expand contract ...</td>\n",
       "      <td>0</td>\n",
       "    </tr>\n",
       "    <tr>\n",
       "      <th>790168</th>\n",
       "      <td>Things you cannot put on a Resume..... Landed ...</td>\n",
       "      <td>thing put resume landed impossible</td>\n",
       "      <td>0</td>\n",
       "    </tr>\n",
       "    <tr>\n",
       "      <th>45227</th>\n",
       "      <td>why not just jaywalking</td>\n",
       "      <td>jaywalking</td>\n",
       "      <td>0</td>\n",
       "    </tr>\n",
       "    <tr>\n",
       "      <th>332747</th>\n",
       "      <td>1. People totally watch her channel because he...</td>\n",
       "      <td>people totally watch channel intellect definit...</td>\n",
       "      <td>0</td>\n",
       "    </tr>\n",
       "    <tr>\n",
       "      <th>211371</th>\n",
       "      <td>This sounds like the Beta vs VHS vs Laser disk...</td>\n",
       "      <td>sound like beta v vhs v laser disk war yes dat...</td>\n",
       "      <td>0</td>\n",
       "    </tr>\n",
       "    <tr>\n",
       "      <th>3017</th>\n",
       "      <td>no....electric and renewable resources is far ...</td>\n",
       "      <td>noelectric renewable resource far far away thi...</td>\n",
       "      <td>0</td>\n",
       "    </tr>\n",
       "    <tr>\n",
       "      <th>235715</th>\n",
       "      <td>How about this? https://www.cia.gov/library/re...</td>\n",
       "      <td>http</td>\n",
       "      <td>0</td>\n",
       "    </tr>\n",
       "  </tbody>\n",
       "</table>\n",
       "</div>"
      ],
      "text/plain": [
       "                                         Comment (Actual)  \\\n",
       "162261  cmon non of this is anything but common knowle...   \n",
       "835469  I heard a theory that plants don't want green ...   \n",
       "236506  I like friction. Hehehe! She was able to illus...   \n",
       "2448    Yeah, never made. The last thing a guy wants t...   \n",
       "169887  You are such a geek!  (A high compliment from ...   \n",
       "104174               It's only a Dream... it/s Impossible   \n",
       "267879  ....I love physics, I worry that man in his pu...   \n",
       "594073  I fly over the Hanford site countless times a ...   \n",
       "263057  I won't say anything about your animation at 1...   \n",
       "469953  Very interesting. What's Raquel's tattoo on he...   \n",
       "226995  \"Quantum Foam\" LOL, such a fantastical term; i...   \n",
       "63756                                   Does anyone care?   \n",
       "159195    I'm pretty sure SpongeBob just drove that rock.   \n",
       "469033  For what I remember, the moon also makes the e...   \n",
       "790168  Things you cannot put on a Resume..... Landed ...   \n",
       "45227                             why not just jaywalking   \n",
       "332747  1. People totally watch her channel because he...   \n",
       "211371  This sounds like the Beta vs VHS vs Laser disk...   \n",
       "3017    no....electric and renewable resources is far ...   \n",
       "235715  How about this? https://www.cia.gov/library/re...   \n",
       "\n",
       "                                       Lemmatized Comment  cluster_labels  \n",
       "162261  cmon non anything common knowledge really appr...               0  \n",
       "835469  heard theory plant want green light light woul...               0  \n",
       "236506  like friction hehehe able illustrate different...               0  \n",
       "2448    yeah never made last thing guy want rest head ...               0  \n",
       "169887  geek high compliment mechanical engineer thank...               0  \n",
       "104174                                   dream impossible               0  \n",
       "267879  love physic worry man pursuit make decision hu...               0  \n",
       "594073  fly hanford site countless time year always wo...               0  \n",
       "263057               say anything animation one many zero               0  \n",
       "469953              interesting raquels tattoo right arrn               0  \n",
       "226995       quantum foam lol fantastical term intriguing               0  \n",
       "63756                                         anyone care               0  \n",
       "159195                   pretty sure spongebob drove rock               0  \n",
       "469033  remember moon also make earth expand contract ...               0  \n",
       "790168                 thing put resume landed impossible               0  \n",
       "45227                                          jaywalking               0  \n",
       "332747  people totally watch channel intellect definit...               0  \n",
       "211371  sound like beta v vhs v laser disk war yes dat...               0  \n",
       "3017    noelectric renewable resource far far away thi...               0  \n",
       "235715                                               http               0  "
      ]
     },
     "execution_count": 204,
     "metadata": {},
     "output_type": "execute_result"
    }
   ],
   "source": [
    "import pandas as pd\n",
    "\n",
    "# assuming your original data is stored in a pandas DataFrame called 'df'\n",
    "# assuming that you have already applied KMeans and obtained cluster labels, stored in a column called 'cluster_labels'\n",
    "\n",
    "# create two separate data frames based on cluster labels\n",
    "cluster_0_df = Random_df[Random_df['cluster_labels'] == 0]\n",
    "cluster_1_df = Random_df[Random_df['cluster_labels'] == 1]\n",
    "# cluster_2_df = Random_df[Random_df['cluster_labels'] == 2]\n",
    "\n",
    "# print the number of data points in each cluster\n",
    "print(\"Number of data points in cluster 0:\", len(cluster_0_df))\n",
    "print(\"Number of data points in cluster 1:\", len(cluster_1_df))\n",
    "# print(\"Number of data points in cluster 2:\", len(cluster_2_df))\n",
    "\n",
    "# display the first 5 rows of each cluster's data frame\n",
    "# print(\"Data frame for cluster 0:\")\n",
    "# print(cluster_0_df.head())\n",
    "\n",
    "# print(\"Data frame for cluster 1:\")\n",
    "# print(cluster_1_df.head())\n",
    "\n",
    "cluster_0_df.sample(20)"
   ]
  },
  {
   "cell_type": "code",
   "execution_count": 205,
   "metadata": {},
   "outputs": [
    {
     "data": {
      "text/html": [
       "<div>\n",
       "<style scoped>\n",
       "    .dataframe tbody tr th:only-of-type {\n",
       "        vertical-align: middle;\n",
       "    }\n",
       "\n",
       "    .dataframe tbody tr th {\n",
       "        vertical-align: top;\n",
       "    }\n",
       "\n",
       "    .dataframe thead th {\n",
       "        text-align: right;\n",
       "    }\n",
       "</style>\n",
       "<table border=\"1\" class=\"dataframe\">\n",
       "  <thead>\n",
       "    <tr style=\"text-align: right;\">\n",
       "      <th></th>\n",
       "      <th>Comment (Actual)</th>\n",
       "      <th>Lemmatized Comment</th>\n",
       "      <th>cluster_labels</th>\n",
       "    </tr>\n",
       "  </thead>\n",
       "  <tbody>\n",
       "    <tr>\n",
       "      <th>27580</th>\n",
       "      <td>I watched your artificial womb video and then ...</td>\n",
       "      <td>watched artificial womb video subscribed chann...</td>\n",
       "      <td>1</td>\n",
       "    </tr>\n",
       "    <tr>\n",
       "      <th>726901</th>\n",
       "      <td>Watching video in this low res..... :(</td>\n",
       "      <td>watching video low re</td>\n",
       "      <td>1</td>\n",
       "    </tr>\n",
       "    <tr>\n",
       "      <th>799207</th>\n",
       "      <td>I love her hair!!! 😍</td>\n",
       "      <td>love hair</td>\n",
       "      <td>1</td>\n",
       "    </tr>\n",
       "    <tr>\n",
       "      <th>17944</th>\n",
       "      <td>I love these!</td>\n",
       "      <td>love</td>\n",
       "      <td>1</td>\n",
       "    </tr>\n",
       "    <tr>\n",
       "      <th>849448</th>\n",
       "      <td>Actually it's pretty much is a how to video</td>\n",
       "      <td>actually pretty much video</td>\n",
       "      <td>1</td>\n",
       "    </tr>\n",
       "    <tr>\n",
       "      <th>154102</th>\n",
       "      <td>That was so good to watch keep up the great work</td>\n",
       "      <td>good watch keep great work</td>\n",
       "      <td>1</td>\n",
       "    </tr>\n",
       "    <tr>\n",
       "      <th>816847</th>\n",
       "      <td>Answer to the riddle: I'd make a video of each...</td>\n",
       "      <td>answer riddle would make video eachbar upload ...</td>\n",
       "      <td>1</td>\n",
       "    </tr>\n",
       "    <tr>\n",
       "      <th>136981</th>\n",
       "      <td>Great video.</td>\n",
       "      <td>great video</td>\n",
       "      <td>1</td>\n",
       "    </tr>\n",
       "    <tr>\n",
       "      <th>794508</th>\n",
       "      <td>@Physics Girl you should do a video on Ringing...</td>\n",
       "      <td>physic girl video ringing rock park pennsylvan...</td>\n",
       "      <td>1</td>\n",
       "    </tr>\n",
       "    <tr>\n",
       "      <th>13623</th>\n",
       "      <td>The Amount of Effort Cleo puts into her videos...</td>\n",
       "      <td>amount effort cleo put video amazing energy po...</td>\n",
       "      <td>1</td>\n",
       "    </tr>\n",
       "    <tr>\n",
       "      <th>24946</th>\n",
       "      <td>Great video Cleo 💪🏻</td>\n",
       "      <td>great video cleo</td>\n",
       "      <td>1</td>\n",
       "    </tr>\n",
       "    <tr>\n",
       "      <th>228444</th>\n",
       "      <td>It would be nice to see you do a video with Do...</td>\n",
       "      <td>would nice see video dalton</td>\n",
       "      <td>1</td>\n",
       "    </tr>\n",
       "    <tr>\n",
       "      <th>818796</th>\n",
       "      <td>I didn’t even look at the channel name when I ...</td>\n",
       "      <td>even look channel name clicked video physic ho...</td>\n",
       "      <td>1</td>\n",
       "    </tr>\n",
       "    <tr>\n",
       "      <th>77818</th>\n",
       "      <td>Great video but you forgot one other bit of tr...</td>\n",
       "      <td>great video forgot one bit trash left behindhu...</td>\n",
       "      <td>1</td>\n",
       "    </tr>\n",
       "    <tr>\n",
       "      <th>78276</th>\n",
       "      <td>We have no idea. And this isn't a video.  It's...</td>\n",
       "      <td>idea video cgi creation</td>\n",
       "      <td>1</td>\n",
       "    </tr>\n",
       "  </tbody>\n",
       "</table>\n",
       "</div>"
      ],
      "text/plain": [
       "                                         Comment (Actual)  \\\n",
       "27580   I watched your artificial womb video and then ...   \n",
       "726901             Watching video in this low res..... :(   \n",
       "799207                               I love her hair!!! 😍   \n",
       "17944                                       I love these!   \n",
       "849448        Actually it's pretty much is a how to video   \n",
       "154102   That was so good to watch keep up the great work   \n",
       "816847  Answer to the riddle: I'd make a video of each...   \n",
       "136981                                       Great video.   \n",
       "794508  @Physics Girl you should do a video on Ringing...   \n",
       "13623   The Amount of Effort Cleo puts into her videos...   \n",
       "24946                                 Great video Cleo 💪🏻   \n",
       "228444  It would be nice to see you do a video with Do...   \n",
       "818796  I didn’t even look at the channel name when I ...   \n",
       "77818   Great video but you forgot one other bit of tr...   \n",
       "78276   We have no idea. And this isn't a video.  It's...   \n",
       "\n",
       "                                       Lemmatized Comment  cluster_labels  \n",
       "27580   watched artificial womb video subscribed chann...               1  \n",
       "726901                              watching video low re               1  \n",
       "799207                                          love hair               1  \n",
       "17944                                                love               1  \n",
       "849448                         actually pretty much video               1  \n",
       "154102                         good watch keep great work               1  \n",
       "816847  answer riddle would make video eachbar upload ...               1  \n",
       "136981                                        great video               1  \n",
       "794508  physic girl video ringing rock park pennsylvan...               1  \n",
       "13623   amount effort cleo put video amazing energy po...               1  \n",
       "24946                                    great video cleo               1  \n",
       "228444                        would nice see video dalton               1  \n",
       "818796  even look channel name clicked video physic ho...               1  \n",
       "77818   great video forgot one bit trash left behindhu...               1  \n",
       "78276                             idea video cgi creation               1  "
      ]
     },
     "execution_count": 205,
     "metadata": {},
     "output_type": "execute_result"
    }
   ],
   "source": [
    "cluster_1_df.sample(15)"
   ]
  },
  {
   "cell_type": "code",
   "execution_count": 206,
   "metadata": {
    "colab": {
     "base_uri": "https://localhost:8080/",
     "height": 430
    },
    "id": "p5OA7fBdewke",
    "outputId": "7f8621c9-3347-40bc-cb3a-91fa73761cfa"
   },
   "outputs": [
    {
     "data": {
      "image/png": "[encoded data removed]",
      "text/plain": [
       "<Figure size 432x288 with 1 Axes>"
      ]
     },
     "metadata": {
      "needs_background": "light"
     },
     "output_type": "display_data"
    }
   ],
   "source": [
    "svd = TruncatedSVD(n_components=2)\n",
    "reduced_matrix = svd.fit_transform(tfidf_svd)\n",
    "\n",
    "# Create a scatter plot of the reduced matrix, with each point colored according to its cluster assignment\n",
    "plt.scatter(reduced_matrix[:, 0], reduced_matrix[:, 1], c=cluster_assignments)\n",
    "plt.show()\n"
   ]
  },
  {
   "cell_type": "markdown",
   "metadata": {},
   "source": [
    "### Used majority voting for final labels using three clustering algorithms KMeans, AgglomerativeClustering, SpectralClustering"
   ]
  },
  {
   "cell_type": "code",
   "execution_count": 207,
   "metadata": {},
   "outputs": [
    {
     "name": "stdout",
     "output_type": "stream",
     "text": [
      "(5000,)\n"
     ]
    },
    {
     "data": {
      "text/plain": [
       "27"
      ]
     },
     "execution_count": 207,
     "metadata": {},
     "output_type": "execute_result"
    }
   ],
   "source": [
    "from sklearn.cluster import KMeans, AgglomerativeClustering, SpectralClustering\n",
    "from sklearn.metrics import adjusted_rand_score\n",
    "from scipy.stats import mode\n",
    "import numpy as np\n",
    "\n",
    "kmeans = KMeans(n_clusters=2, random_state=42)\n",
    "agg = AgglomerativeClustering(n_clusters=2)\n",
    "spectral = SpectralClustering(n_clusters=2, random_state=42)\n",
    "\n",
    "cluster_labels = []\n",
    "\n",
    "for clf in (kmeans, agg, spectral):\n",
    "    clf.fit(tfidf_svd)\n",
    "    cluster_labels.append(clf.labels_)\n",
    "\n",
    "cluster_labels = np.array(cluster_labels)\n",
    "\n",
    "# Find the most commonly occurring cluster label across all models\n",
    "majority_vote = mode(cluster_labels, axis=0)\n",
    "y_pred = majority_vote.mode[0]\n",
    "sum=0\n",
    "for i in y_pred:\n",
    "    if i==1 :\n",
    "        sum+=1\n",
    "print(y_pred.shape)\n",
    "sum \n"
   ]
  },
  {
   "cell_type": "markdown",
   "metadata": {},
   "source": [
    "## Evaluating clustering algorithms using metrics 'Silhouette', 'Calinski-Harabasz', 'Davies-Bouldin'"
   ]
  },
  {
   "cell_type": "code",
   "execution_count": 208,
   "metadata": {},
   "outputs": [
    {
     "name": "stdout",
     "output_type": "stream",
     "text": [
      "Model 1: KMeans\n",
      "--------------------------------------------------\n",
      "Silhouette score: 0.038\n",
      "Calinski-Harabasz score: 36.106\n",
      "Davies-Bouldin score: 6.050\n",
      "\n",
      "\n",
      "Model 2: AgglomerativeClustering\n",
      "--------------------------------------------------\n",
      "Silhouette score: 0.106\n",
      "Calinski-Harabasz score: 37.046\n",
      "Davies-Bouldin score: 0.991\n",
      "\n",
      "\n",
      "Model 3: SpectralClustering\n",
      "--------------------------------------------------\n",
      "Silhouette score: 0.106\n",
      "Calinski-Harabasz score: 37.046\n",
      "Davies-Bouldin score: 0.991\n",
      "\n",
      "\n"
     ]
    }
   ],
   "source": [
    "# Fit each model and obtain cluster labels\n",
    "models = [kmeans, agg, spectral]\n",
    "\n",
    "cluster_labels = np.array(cluster_labels)\n",
    "\n",
    "# Compute clustering metrics for each model\n",
    "metrics = ['Silhouette', 'Calinski-Harabasz', 'Davies-Bouldin']\n",
    "for i, model in enumerate(models):\n",
    "    print(f'Model {i+1}: {type(model).__name__}')\n",
    "    print('-'*50)\n",
    "    for metric in metrics:\n",
    "        if metric == 'Silhouette':\n",
    "            score = silhouette_score(tfidf_svd, cluster_labels[i])\n",
    "        elif metric == 'Calinski-Harabasz':\n",
    "            score = calinski_harabasz_score(tfidf_svd, cluster_labels[i])\n",
    "        elif metric == 'Davies-Bouldin':\n",
    "            score = davies_bouldin_score(tfidf_svd, cluster_labels[i])\n",
    "        print(f'{metric} score: {score:.3f}')\n",
    "    print('\\n')\n"
   ]
  },
  {
   "cell_type": "code",
   "execution_count": 209,
   "metadata": {},
   "outputs": [
    {
     "data": {
      "text/plain": [
       "(5000, 3)"
      ]
     },
     "execution_count": 209,
     "metadata": {},
     "output_type": "execute_result"
    }
   ],
   "source": [
    "Random_df.shape"
   ]
  },
  {
   "cell_type": "code",
   "execution_count": 210,
   "metadata": {},
   "outputs": [
    {
     "data": {
      "text/html": [
       "<div>\n",
       "<style scoped>\n",
       "    .dataframe tbody tr th:only-of-type {\n",
       "        vertical-align: middle;\n",
       "    }\n",
       "\n",
       "    .dataframe tbody tr th {\n",
       "        vertical-align: top;\n",
       "    }\n",
       "\n",
       "    .dataframe thead th {\n",
       "        text-align: right;\n",
       "    }\n",
       "</style>\n",
       "<table border=\"1\" class=\"dataframe\">\n",
       "  <thead>\n",
       "    <tr style=\"text-align: right;\">\n",
       "      <th></th>\n",
       "      <th>y_pred</th>\n",
       "    </tr>\n",
       "  </thead>\n",
       "  <tbody>\n",
       "    <tr>\n",
       "      <th>0</th>\n",
       "      <td>0</td>\n",
       "    </tr>\n",
       "    <tr>\n",
       "      <th>1</th>\n",
       "      <td>0</td>\n",
       "    </tr>\n",
       "    <tr>\n",
       "      <th>2</th>\n",
       "      <td>0</td>\n",
       "    </tr>\n",
       "    <tr>\n",
       "      <th>3</th>\n",
       "      <td>0</td>\n",
       "    </tr>\n",
       "    <tr>\n",
       "      <th>4</th>\n",
       "      <td>0</td>\n",
       "    </tr>\n",
       "    <tr>\n",
       "      <th>...</th>\n",
       "      <td>...</td>\n",
       "    </tr>\n",
       "    <tr>\n",
       "      <th>4995</th>\n",
       "      <td>0</td>\n",
       "    </tr>\n",
       "    <tr>\n",
       "      <th>4996</th>\n",
       "      <td>0</td>\n",
       "    </tr>\n",
       "    <tr>\n",
       "      <th>4997</th>\n",
       "      <td>0</td>\n",
       "    </tr>\n",
       "    <tr>\n",
       "      <th>4998</th>\n",
       "      <td>0</td>\n",
       "    </tr>\n",
       "    <tr>\n",
       "      <th>4999</th>\n",
       "      <td>0</td>\n",
       "    </tr>\n",
       "  </tbody>\n",
       "</table>\n",
       "<p>5000 rows × 1 columns</p>\n",
       "</div>"
      ],
      "text/plain": [
       "      y_pred\n",
       "0          0\n",
       "1          0\n",
       "2          0\n",
       "3          0\n",
       "4          0\n",
       "...      ...\n",
       "4995       0\n",
       "4996       0\n",
       "4997       0\n",
       "4998       0\n",
       "4999       0\n",
       "\n",
       "[5000 rows x 1 columns]"
      ]
     },
     "execution_count": 210,
     "metadata": {},
     "output_type": "execute_result"
    }
   ],
   "source": [
    "y_pred_df = pd.DataFrame({'y_pred': y_pred})\n",
    "\n",
    "y_pred_df"
   ]
  },
  {
   "cell_type": "markdown",
   "metadata": {},
   "source": [
    "###  now training decision tree classfier on the tfidf calculated above and the labeled clusters we got and then predicting labels of our rest of the comments present in our initial dataframe df"
   ]
  },
  {
   "cell_type": "code",
   "execution_count": 211,
   "metadata": {},
   "outputs": [
    {
     "name": "stdout",
     "output_type": "stream",
     "text": [
      "Accuracy: 1.0\n"
     ]
    }
   ],
   "source": [
    "from sklearn.tree import DecisionTreeClassifier\n",
    "from sklearn.model_selection import train_test_split, GridSearchCV\n",
    "from sklearn.metrics import accuracy_score\n",
    "\n",
    "# Split the data into training and test sets\n",
    "X_train, X_test, y_train, y_test = train_test_split(tfidf, y_pred_df[\"y_pred\"], test_size=0.2, random_state=42)\n",
    "\n",
    "# Create decision tree classifier\n",
    "clf = DecisionTreeClassifier(random_state=42)\n",
    "\n",
    "# Train the GridSearchCV object on the training data\n",
    "clf.fit(X_train, y_train)\n",
    "\n",
    "# Use the best estimator from the GridSearchCV object to make predictions on the testing data\n",
    "y_pred = clf.predict(X_test)\n",
    "\n",
    "# Evaluate the accuracy of the classifier\n",
    "accuracy = accuracy_score(y_test, y_pred)\n",
    "print(\"Accuracy:\", accuracy)\n"
   ]
  },
  {
   "cell_type": "code",
   "execution_count": 212,
   "metadata": {},
   "outputs": [
    {
     "data": {
      "text/plain": [
       "<379032x10000 sparse matrix of type '<class 'numpy.float64'>'\n",
       "\twith 3709010 stored elements in Compressed Sparse Row format>"
      ]
     },
     "execution_count": 212,
     "metadata": {},
     "output_type": "execute_result"
    }
   ],
   "source": [
    "tfidf_vectorizer = TfidfVectorizer(max_features =10000).fit(df['Lemmatized Comment'] )\n",
    "\n",
    "tfidf = tfidf_vectorizer.transform(df['Lemmatized Comment'])\n",
    "tfidf"
   ]
  },
  {
   "cell_type": "code",
   "execution_count": 213,
   "metadata": {},
   "outputs": [],
   "source": [
    "y_final = clf.predict(tfidf)"
   ]
  },
  {
   "cell_type": "code",
   "execution_count": 214,
   "metadata": {},
   "outputs": [
    {
     "data": {
      "text/plain": [
       "array([0, 0, 0, ..., 0, 0, 0], dtype=int64)"
      ]
     },
     "execution_count": 214,
     "metadata": {},
     "output_type": "execute_result"
    }
   ],
   "source": [
    "y_final"
   ]
  },
  {
   "cell_type": "code",
   "execution_count": 215,
   "metadata": {},
   "outputs": [],
   "source": [
    "df['predicted labels'] = y_final"
   ]
  },
  {
   "cell_type": "code",
   "execution_count": 216,
   "metadata": {},
   "outputs": [
    {
     "data": {
      "text/html": [
       "<div>\n",
       "<style scoped>\n",
       "    .dataframe tbody tr th:only-of-type {\n",
       "        vertical-align: middle;\n",
       "    }\n",
       "\n",
       "    .dataframe tbody tr th {\n",
       "        vertical-align: top;\n",
       "    }\n",
       "\n",
       "    .dataframe thead th {\n",
       "        text-align: right;\n",
       "    }\n",
       "</style>\n",
       "<table border=\"1\" class=\"dataframe\">\n",
       "  <thead>\n",
       "    <tr style=\"text-align: right;\">\n",
       "      <th></th>\n",
       "      <th>Comment (Actual)</th>\n",
       "      <th>Lemmatized Comment</th>\n",
       "      <th>predicted labels</th>\n",
       "    </tr>\n",
       "  </thead>\n",
       "  <tbody>\n",
       "    <tr>\n",
       "      <th>0</th>\n",
       "      <td>zombie spider!! bomb the damn lab before it's ...</td>\n",
       "      <td>zombie spider bomb damn lab late</td>\n",
       "      <td>0</td>\n",
       "    </tr>\n",
       "    <tr>\n",
       "      <th>1</th>\n",
       "      <td>This is way less cool than it seems, spiders a...</td>\n",
       "      <td>way le cool seems spider actually muscle exten...</td>\n",
       "      <td>0</td>\n",
       "    </tr>\n",
       "    <tr>\n",
       "      <th>2</th>\n",
       "      <td>Spiders see this and this is why they made the...</td>\n",
       "      <td>spider see made terrifying go poking panic button</td>\n",
       "      <td>0</td>\n",
       "    </tr>\n",
       "    <tr>\n",
       "      <th>3</th>\n",
       "      <td>you looks pretty 😍</td>\n",
       "      <td>look pretty</td>\n",
       "      <td>0</td>\n",
       "    </tr>\n",
       "    <tr>\n",
       "      <th>4</th>\n",
       "      <td>I can hear the hairs standing up on my wife’s ...</td>\n",
       "      <td>hear hair standing wife arm mile away</td>\n",
       "      <td>0</td>\n",
       "    </tr>\n",
       "    <tr>\n",
       "      <th>...</th>\n",
       "      <td>...</td>\n",
       "      <td>...</td>\n",
       "      <td>...</td>\n",
       "    </tr>\n",
       "    <tr>\n",
       "      <th>861957</th>\n",
       "      <td>hey girl,make more vdos and make it lengthy .....</td>\n",
       "      <td>hey girlmake vdos make lengthy really helpful ...</td>\n",
       "      <td>0</td>\n",
       "    </tr>\n",
       "    <tr>\n",
       "      <th>861958</th>\n",
       "      <td>Third</td>\n",
       "      <td>third</td>\n",
       "      <td>0</td>\n",
       "    </tr>\n",
       "    <tr>\n",
       "      <th>861959</th>\n",
       "      <td>third</td>\n",
       "      <td>third</td>\n",
       "      <td>0</td>\n",
       "    </tr>\n",
       "    <tr>\n",
       "      <th>861960</th>\n",
       "      <td>Second</td>\n",
       "      <td>second</td>\n",
       "      <td>0</td>\n",
       "    </tr>\n",
       "    <tr>\n",
       "      <th>861961</th>\n",
       "      <td>first</td>\n",
       "      <td>first</td>\n",
       "      <td>0</td>\n",
       "    </tr>\n",
       "  </tbody>\n",
       "</table>\n",
       "<p>379032 rows × 3 columns</p>\n",
       "</div>"
      ],
      "text/plain": [
       "                                         Comment (Actual)  \\\n",
       "0       zombie spider!! bomb the damn lab before it's ...   \n",
       "1       This is way less cool than it seems, spiders a...   \n",
       "2       Spiders see this and this is why they made the...   \n",
       "3                                      you looks pretty 😍   \n",
       "4       I can hear the hairs standing up on my wife’s ...   \n",
       "...                                                   ...   \n",
       "861957  hey girl,make more vdos and make it lengthy .....   \n",
       "861958                                              Third   \n",
       "861959                                              third   \n",
       "861960                                             Second   \n",
       "861961                                              first   \n",
       "\n",
       "                                       Lemmatized Comment  predicted labels  \n",
       "0                        zombie spider bomb damn lab late                 0  \n",
       "1       way le cool seems spider actually muscle exten...                 0  \n",
       "2       spider see made terrifying go poking panic button                 0  \n",
       "3                                             look pretty                 0  \n",
       "4                   hear hair standing wife arm mile away                 0  \n",
       "...                                                   ...               ...  \n",
       "861957  hey girlmake vdos make lengthy really helpful ...                 0  \n",
       "861958                                              third                 0  \n",
       "861959                                              third                 0  \n",
       "861960                                             second                 0  \n",
       "861961                                              first                 0  \n",
       "\n",
       "[379032 rows x 3 columns]"
      ]
     },
     "execution_count": 216,
     "metadata": {},
     "output_type": "execute_result"
    }
   ],
   "source": [
    "df"
   ]
  },
  {
   "cell_type": "code",
   "execution_count": 217,
   "metadata": {},
   "outputs": [
    {
     "data": {
      "text/plain": [
       "<5000x1000 sparse matrix of type '<class 'numpy.float64'>'\n",
       "\twith 34937 stored elements in Compressed Sparse Row format>"
      ]
     },
     "execution_count": 217,
     "metadata": {},
     "output_type": "execute_result"
    }
   ],
   "source": [
    "random_df = pd.DataFrame()\n",
    "random_df = df.sample(5000)\n",
    "\n",
    "tfidf_vectorizer = TfidfVectorizer(max_features =1000).fit(df['Lemmatized Comment'] )\n",
    "\n",
    "tfidf1 = tfidf_vectorizer.transform(random_df['Lemmatized Comment'])\n",
    "tfidf1"
   ]
  },
  {
   "cell_type": "code",
   "execution_count": 219,
   "metadata": {},
   "outputs": [
    {
     "data": {
      "image/png": "[encoded data removed]",
      "text/plain": [
       "<Figure size 432x288 with 1 Axes>"
      ]
     },
     "metadata": {
      "needs_background": "light"
     },
     "output_type": "display_data"
    }
   ],
   "source": [
    "svd1 = TruncatedSVD(n_components=2)\n",
    "reduced_matrix1 = svd1.fit_transform(tfidf_svd1)\n",
    "\n",
    "# Create a scatter plot of the reduced matrix, with each point colored according to its cluster assignment\n",
    "plt.scatter(reduced_matrix1[:, 0], reduced_matrix1[:, 1], c=random_df['predicted labels'])\n",
    "plt.show()"
   ]
  },
  {
   "cell_type": "code",
   "execution_count": 220,
   "metadata": {},
   "outputs": [
    {
     "data": {
      "text/plain": [
       "0    4981\n",
       "1      19\n",
       "Name: predicted labels, dtype: int64"
      ]
     },
     "execution_count": 220,
     "metadata": {},
     "output_type": "execute_result"
    }
   ],
   "source": [
    "random_df['predicted labels'].value_counts()"
   ]
  },
  {
   "cell_type": "code",
   "execution_count": 221,
   "metadata": {},
   "outputs": [
    {
     "data": {
      "text/plain": [
       "0    377328\n",
       "1      1704\n",
       "Name: predicted labels, dtype: int64"
      ]
     },
     "execution_count": 221,
     "metadata": {},
     "output_type": "execute_result"
    }
   ],
   "source": [
    "df['predicted labels'].value_counts()"
   ]
  },
  {
   "cell_type": "markdown",
   "metadata": {},
   "source": [
    "#### Predicted spam comments by our model"
   ]
  },
  {
   "cell_type": "code",
   "execution_count": 228,
   "metadata": {},
   "outputs": [
    {
     "data": {
      "text/html": [
       "<div>\n",
       "<style scoped>\n",
       "    .dataframe tbody tr th:only-of-type {\n",
       "        vertical-align: middle;\n",
       "    }\n",
       "\n",
       "    .dataframe tbody tr th {\n",
       "        vertical-align: top;\n",
       "    }\n",
       "\n",
       "    .dataframe thead th {\n",
       "        text-align: right;\n",
       "    }\n",
       "</style>\n",
       "<table border=\"1\" class=\"dataframe\">\n",
       "  <thead>\n",
       "    <tr style=\"text-align: right;\">\n",
       "      <th></th>\n",
       "      <th>Comment (Actual)</th>\n",
       "      <th>Lemmatized Comment</th>\n",
       "      <th>predicted labels</th>\n",
       "    </tr>\n",
       "  </thead>\n",
       "  <tbody>\n",
       "    <tr>\n",
       "      <th>4835</th>\n",
       "      <td>Something tells me this host also loves microc...</td>\n",
       "      <td>something tell host also love microchip cashle...</td>\n",
       "      <td>1</td>\n",
       "    </tr>\n",
       "    <tr>\n",
       "      <th>5180</th>\n",
       "      <td>I love this channel. it's simple, non imposing...</td>\n",
       "      <td>love channel simple non imposing host sound li...</td>\n",
       "      <td>1</td>\n",
       "    </tr>\n",
       "    <tr>\n",
       "      <th>5287</th>\n",
       "      <td>The Waffle House has found it’s new host</td>\n",
       "      <td>waffle house found new host</td>\n",
       "      <td>1</td>\n",
       "    </tr>\n",
       "    <tr>\n",
       "      <th>5441</th>\n",
       "      <td>The waffle house has found its new host</td>\n",
       "      <td>waffle house found new host</td>\n",
       "      <td>1</td>\n",
       "    </tr>\n",
       "    <tr>\n",
       "      <th>5484</th>\n",
       "      <td>The waffle House has found its new host</td>\n",
       "      <td>waffle house found new host</td>\n",
       "      <td>1</td>\n",
       "    </tr>\n",
       "    <tr>\n",
       "      <th>...</th>\n",
       "      <td>...</td>\n",
       "      <td>...</td>\n",
       "      <td>...</td>\n",
       "    </tr>\n",
       "    <tr>\n",
       "      <th>839303</th>\n",
       "      <td>Amazing channel, impressive content and a real...</td>\n",
       "      <td>amazing channel impressive content really love...</td>\n",
       "      <td>1</td>\n",
       "    </tr>\n",
       "    <tr>\n",
       "      <th>840153</th>\n",
       "      <td>Ashley could host her own channel, Physics Gir...</td>\n",
       "      <td>ashley could host channel physic girl</td>\n",
       "      <td>1</td>\n",
       "    </tr>\n",
       "    <tr>\n",
       "      <th>846978</th>\n",
       "      <td>It’s to bad that a potentially interesting vid...</td>\n",
       "      <td>bad potentially interesting video ruined extre...</td>\n",
       "      <td>1</td>\n",
       "    </tr>\n",
       "    <tr>\n",
       "      <th>850610</th>\n",
       "      <td>Love Physics Girl but with my strong dislike f...</td>\n",
       "      <td>love physic girl strong dislike bill nye tv sh...</td>\n",
       "      <td>1</td>\n",
       "    </tr>\n",
       "    <tr>\n",
       "      <th>853344</th>\n",
       "      <td>I wish people would stop scripting narration l...</td>\n",
       "      <td>wish people would stop scripting narration lik...</td>\n",
       "      <td>1</td>\n",
       "    </tr>\n",
       "  </tbody>\n",
       "</table>\n",
       "<p>1704 rows × 3 columns</p>\n",
       "</div>"
      ],
      "text/plain": [
       "                                         Comment (Actual)  \\\n",
       "4835    Something tells me this host also loves microc...   \n",
       "5180    I love this channel. it's simple, non imposing...   \n",
       "5287             The Waffle House has found it’s new host   \n",
       "5441              The waffle house has found its new host   \n",
       "5484              The waffle House has found its new host   \n",
       "...                                                   ...   \n",
       "839303  Amazing channel, impressive content and a real...   \n",
       "840153  Ashley could host her own channel, Physics Gir...   \n",
       "846978  It’s to bad that a potentially interesting vid...   \n",
       "850610  Love Physics Girl but with my strong dislike f...   \n",
       "853344  I wish people would stop scripting narration l...   \n",
       "\n",
       "                                       Lemmatized Comment  predicted labels  \n",
       "4835    something tell host also love microchip cashle...                 1  \n",
       "5180    love channel simple non imposing host sound li...                 1  \n",
       "5287                          waffle house found new host                 1  \n",
       "5441                          waffle house found new host                 1  \n",
       "5484                          waffle house found new host                 1  \n",
       "...                                                   ...               ...  \n",
       "839303  amazing channel impressive content really love...                 1  \n",
       "840153              ashley could host channel physic girl                 1  \n",
       "846978  bad potentially interesting video ruined extre...                 1  \n",
       "850610  love physic girl strong dislike bill nye tv sh...                 1  \n",
       "853344  wish people would stop scripting narration lik...                 1  \n",
       "\n",
       "[1704 rows x 3 columns]"
      ]
     },
     "execution_count": 228,
     "metadata": {},
     "output_type": "execute_result"
    }
   ],
   "source": [
    "spam_df_ = df[df['predicted labels'] == 1]\n",
    "spam_df_"
   ]
  },
  {
   "cell_type": "code",
   "execution_count": null,
   "metadata": {},
   "outputs": [],
   "source": []
  }
 ],
 "metadata": {
  "colab": {
   "provenance": []
  },
  "kernelspec": {
   "display_name": "Python 3 (ipykernel)",
   "language": "python",
   "name": "python3"
  },
  "language_info": {
   "codemirror_mode": {
    "name": "ipython",
    "version": 3
   },
   "file_extension": ".py",
   "mimetype": "text/x-python",
   "name": "python",
   "nbconvert_exporter": "python",
   "pygments_lexer": "ipython3",
   "version": "3.9.7"
  }
 },
 "nbformat": 4,
 "nbformat_minor": 1
}
